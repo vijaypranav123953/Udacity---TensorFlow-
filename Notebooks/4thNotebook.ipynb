{
 "cells": [
  {
   "cell_type": "code",
   "execution_count": 3,
   "metadata": {},
   "outputs": [],
   "source": [
    "'''    Dictionaries   '''\n",
    "# dictionaries are objects retrived by the key name--\n",
    "#these objects are unordered and they cannot be sorted..\n",
    "# the keys in a dictionary are immutable and the keys in the dictinaries are unique\n",
    "x=0 "
   ]
  },
  {
   "cell_type": "code",
   "execution_count": 4,
   "metadata": {},
   "outputs": [
    {
     "name": "stdout",
     "output_type": "stream",
     "text": [
      "{'key1': 'value', 'key2': 'value2'}\n"
     ]
    }
   ],
   "source": [
    "my_dict = {'key1':'value','key2':'value2'}\n",
    "print(my_dict)"
   ]
  },
  {
   "cell_type": "code",
   "execution_count": 12,
   "metadata": {},
   "outputs": [
    {
     "name": "stdout",
     "output_type": "stream",
     "text": [
      "value\n",
      "343.343\n",
      "{'k1': 123, 'k2': [0, 1, 2], 'k3': {'insidekey': 100}}\n",
      "100\n",
      "1\n"
     ]
    }
   ],
   "source": [
    "# to grab a value in the dictinaries instead of using the index locations we are using the key as the index identfiers here:-\n",
    "print(my_dict['key1'])\n",
    "prices = {'apple':4.99,'orange':9.89,'chocolate':343.343}\n",
    "print(prices['chocolate'])\n",
    "# we can use other iterratble datatypes in the dictinary even the dictionaries itself here\n",
    "d = {'k1':123,'k2':[0,1,2],'k3':{'insidekey':100}}\n",
    "print(d)\n",
    "# to access the iteratble elements inside the value pairs we need to use this\n",
    "print(d['k3']['insidekey'])\n",
    "# similary to acces the insideelements of the list\n",
    "print(d['k2'][1])"
   ]
  },
  {
   "cell_type": "code",
   "execution_count": 24,
   "metadata": {},
   "outputs": [
    {
     "name": "stdout",
     "output_type": "stream",
     "text": [
      "['a', 'b', 'c']\n",
      "c\n",
      "C\n"
     ]
    }
   ],
   "source": [
    "d2 ={'key1':['a','b','c']}\n",
    "mylist = d2['key1']\n",
    "print(mylist)\n",
    "mylett = mylist[2]  \n",
    "''' instead of doing all these steps seperately i can do all these steps in a single line using the following methods'''\n",
    "print(mylett)\n",
    "print(mylett.upper())\n"
   ]
  },
  {
   "cell_type": "code",
   "execution_count": 33,
   "metadata": {},
   "outputs": [
    {
     "name": "stdout",
     "output_type": "stream",
     "text": [
      "C\n",
      "{'k1': 100, 'k2': 200, 'k3': 300}\n",
      "{'k1': 'fuckwithoutrubber', 'k2': 200, 'k3': 300}\n",
      "dict_keys(['k1', 'k2', 'k3'])\n",
      "dict_values(['fuckwithoutrubber', 200, 300])\n",
      "dict_items([('k1', 'fuckwithoutrubber'), ('k2', 200), ('k3', 300)])\n"
     ]
    }
   ],
   "source": [
    "print(d2['key1'][2].upper())\n",
    "d = {'k1':100,'k2':200}\n",
    "# we are assigning new key value pairs to the dictionaries here using this method\n",
    "d['k3'] = 300\n",
    "print(d)\n",
    "''' we can also use the same method to overwrite the existing key value pair here:-'''\n",
    "d['k1'] = 'fuckwithoutrubber'\n",
    "print(d)\n",
    "# to see all the keys and values of the dictionaries here\n",
    "print(d.keys())\n",
    "print(d.values())\n",
    "# if we want them as a key value pair then\n",
    "print(d.items())\n"
   ]
  },
  {
   "cell_type": "code",
   "execution_count": 53,
   "metadata": {},
   "outputs": [
    {
     "name": "stdout",
     "output_type": "stream",
     "text": [
      "{'k1': 200, 'k2': 200}\n",
      "{'name': 'vishwa', 'age': '90', 'salary': 0}\n",
      "{'name': 'hementh', 'age': '90', 'salary': 0}\n"
     ]
    }
   ],
   "source": [
    "emp1 = dict(k1=200,k2=200) # in this method the things which we are giving as keys need not be enclosed in the quotes\n",
    "print(emp1)\n",
    "''' WE CAN ALSO CREATE A DICTONARY USING THE LIST AND TUPLE ARGUMENTS IN THE FOLLOWING METHODS HERE:-'''\n",
    "D =  dict([['name','vishwa'],['age','90'],['salary',0]])\n",
    "print(D)  # as you can see the dictionary is created\n",
    "# similarly using the tuple method here:-\n",
    "F = dict((('name','hementh'),('age','90'),('salary',0)))\n",
    "print(F)"
   ]
  },
  {
   "cell_type": "code",
   "execution_count": 54,
   "metadata": {},
   "outputs": [
    {
     "name": "stdout",
     "output_type": "stream",
     "text": [
      "{'name': 'hementh', 'age': '90', 'salary': 0}\n",
      "{'age': '90', 'salary': 0}\n",
      "{'a': 1, 'b': 2, 'c': 3, 'd': 4}\n",
      "False\n",
      "True\n",
      "False\n"
     ]
    }
   ],
   "source": [
    "# using the del operator you can delete the key value pairs in the dictinary\n",
    "#syntax is del dict_name[key]\n",
    "print(F)\n",
    "del F ['name']\n",
    "print(F)\n",
    "# the in or not in operator are used here((these can only be used in the keys of the dictionary not on the values of the dictionaries):-\n",
    "D = {'a':1,'b':2,'c':3,'d':4}\n",
    "print(D)\n",
    "print('age' in D)\n",
    "print('a' in D)\n",
    "print(3 in D) # here we can see even though 3 is in the dictionary it is showing false here"
   ]
  },
  {
   "cell_type": "code",
   "execution_count": 56,
   "metadata": {},
   "outputs": [
    {
     "name": "stdout",
     "output_type": "stream",
     "text": [
      "{1: 232, 2: 232, 3: 232, 4: 232, 5: 232}\n",
      "{3: None}\n"
     ]
    }
   ],
   "source": [
    "# this method creates a dict from a sequcence containig all the keys  it also assigns a common value to all the keys\n",
    "# syntax = dict.fromkeys(<keysequence>,(value))\n",
    "\n",
    "ndn = dict.fromkeys((1,2,3,4,5),(232))\n",
    "print(ndn) #------ we can see that here\n",
    "\n",
    "nd2 = dict.fromkeys((3,))  # ---- if no value is assigned it will assign the value as null value here:-\n",
    "print(nd2)\n",
    "\n",
    "\n"
   ]
  },
  {
   "cell_type": "code",
   "execution_count": 63,
   "metadata": {},
   "outputs": [
    {
     "name": "stdout",
     "output_type": "stream",
     "text": [
      "<class 'tuple'>\n",
      "<class 'list'>\n",
      "('one', 3, 56.788, [3, 4, 5, 6])\n"
     ]
    }
   ],
   "source": [
    "''' Tuples'''\n",
    "# the tuples are immutable, the elements in the tuples cannot be reassigned easily\n",
    "t = (1,2,3)\n",
    "mylist = [1,2,3]\n",
    "print(type(t))\n",
    "print(type(mylist))\n",
    "# tuplese can have multiple elements in the them \n",
    "t = ('one',3,56.788,[3,4,5,6])\n",
    "print(t)\n",
    "\n"
   ]
  },
  {
   "cell_type": "code",
   "execution_count": 70,
   "metadata": {},
   "outputs": [
    {
     "name": "stdout",
     "output_type": "stream",
     "text": [
      "one\n",
      "[3, 4, 5, 6]\n",
      "2\n",
      "0\n"
     ]
    }
   ],
   "source": [
    "  # we can also do the indexing in the tuples here\n",
    "print(t[0])\n",
    "print(t[-1])\n",
    "'''  THE TWO BASIC METHOD OF THE TUPLES ARE :-'''\n",
    "T=('A','B','C','A','B')\n",
    "print(T.count('A'))  # returns the count of the item passed as and arguments here:-\n",
    "print(T.index('A')) #---- returns the very index of the passed argument"
   ]
  },
  {
   "cell_type": "code",
   "execution_count": 74,
   "metadata": {},
   "outputs": [
    {
     "name": "stdout",
     "output_type": "stream",
     "text": [
      "('one', 3, 56.788, [3, 4, 5, 6])\n",
      "['a4343', 2, 3]\n",
      "['a4343', 2, 3]\n",
      "('one', 3, 56.788, [3, 4, 5, 6])\n"
     ]
    }
   ],
   "source": [
    "print(t)\n",
    "print(mylist)\n",
    "mylist[0] = 'a4343'\n",
    "#t[0] = 33434  as you can clearly see the following statement will be giving an error here as the tuples are immutatable .\n",
    "print(mylist)\n",
    "print(t) "
   ]
  },
  {
   "cell_type": "code",
   "execution_count": 5,
   "metadata": {},
   "outputs": [
    {
     "name": "stdout",
     "output_type": "stream",
     "text": [
      "set()\n",
      "{17}\n",
      "{17, 2}\n"
     ]
    }
   ],
   "source": [
    "'''  SETS ARE UNORDERED COLLECTION OF UNIQUE OBJECTS'''\n",
    "# MEANING THERE CAN ONLY BE ONE REPRESENTATIVE OF THE SAME OBJECT\n",
    "\n",
    "MYSET = set()\n",
    "print(MYSET) # now as you can see it is an empty set here\n",
    "MYSET.add(17)\n",
    "print(MYSET)  # now an element is added to the set\n",
    "MYSET.add(2)\n",
    "print(MYSET)"
   ]
  },
  {
   "cell_type": "code",
   "execution_count": 9,
   "metadata": {},
   "outputs": [
    {
     "name": "stdout",
     "output_type": "stream",
     "text": [
      "{1, 2, 3, 4, 5, 6, 7, 8, 9}\n",
      "{'i', 'm', ' ', 'h', 'o', 'd', 's', 'g', 'n', 'r', 'e', 'l', 'a', 'v', 'b', 't'}\n"
     ]
    }
   ],
   "source": [
    "#we can even create set from an iteratable sequence like list \n",
    "mylist =[1,2,3,4,5,6,7,8,9,1,2,3,4,5,6,7,8,9,1,2,3,4,5,6,7,8,9\n",
    "]\n",
    "print(set(mylist)) # as you can see duplicate elements are eliminated and a set is created\n",
    "name = \"amirtheesh is a boobs loving bastard\"\n",
    "print(set(name)) # it is creating a set and it does not have any order it can be observed here\n"
   ]
  },
  {
   "cell_type": "code",
   "execution_count": 17,
   "metadata": {},
   "outputs": [
    {
     "name": "stdout",
     "output_type": "stream",
     "text": [
      "<class 'bool'>\n",
      "False\n",
      "True\n",
      "None\n"
     ]
    }
   ],
   "source": [
    "'''       BOOLEANS '''\n",
    "#OPERATORS THAT RESLULTS IN A TRUE OR FALSE VALUE FOR A PARTICULAR EXPRESSION OF STATEMENTS HERE\n",
    "print(type(True))\n",
    "print(1>2)\n",
    "''' the usage of the relational operators will also definitly result in the boolean operators value here'''\n",
    "print(2==2)\n",
    "# if we want a variable to defined but not assign any value not we can assign the value none == NUll value to it for now\n",
    "v = None\n",
    "print(v)"
   ]
  },
  {
   "cell_type": "code",
   "execution_count": null,
   "metadata": {},
   "outputs": [],
   "source": []
  },
  {
   "cell_type": "code",
   "execution_count": null,
   "metadata": {},
   "outputs": [],
   "source": []
  }
 ],
 "metadata": {
  "kernelspec": {
   "display_name": "Python 3",
   "language": "python",
   "name": "python3"
  },
  "language_info": {
   "codemirror_mode": {
    "name": "ipython",
    "version": 3
   },
   "file_extension": ".py",
   "mimetype": "text/x-python",
   "name": "python",
   "nbconvert_exporter": "python",
   "pygments_lexer": "ipython3",
   "version": "3.11.5"
  }
 },
 "nbformat": 4,
 "nbformat_minor": 2
}
