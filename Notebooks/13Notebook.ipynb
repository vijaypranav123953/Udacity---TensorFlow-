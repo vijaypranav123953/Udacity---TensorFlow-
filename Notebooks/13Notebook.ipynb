{
 "cells": [
  {
   "cell_type": "markdown",
   "metadata": {},
   "source": [
    "                SIMPLE USER INTERACTION GAME                "
   ]
  },
  {
   "cell_type": "code",
   "execution_count": 1,
   "metadata": {},
   "outputs": [
    {
     "name": "stdout",
     "output_type": "stream",
     "text": [
      "Hello User here is my current list :\n",
      "\n",
      "[0, 1, 2]\n"
     ]
    }
   ],
   "source": [
    "\n",
    "game_list = [0,1,2]\n",
    "def Display(game_list):\n",
    "    print(\"Hello User here is my current list :\\n\")\n",
    "    print(game_list)\n",
    "\n",
    "Display(game_list)"
   ]
  },
  {
   "cell_type": "code",
   "execution_count": 2,
   "metadata": {},
   "outputs": [
    {
     "data": {
      "text/plain": [
       "1"
      ]
     },
     "execution_count": 2,
     "metadata": {},
     "output_type": "execute_result"
    }
   ],
   "source": [
    "def position_choice():\n",
    "\n",
    "    choice = 'Wrong'\n",
    "\n",
    "# IF THE CHOICE IS NOT IN THE MENTIONED LIST THE WHILE LOOP WILL KEEP GOING ON AND ON ....\n",
    "\n",
    "    while choice not in ['0','1','2']:\n",
    "        choice = input(\"Please Pick a Position now (0,1,2):\")\n",
    "\n",
    "        # IF NOT CORRECT CHOICE AND INSIDE THE LOOP MEANS THIS IF BLOCK WILL ALSO GET EXECUTED HERE:-\n",
    "        if choice not in ['0','1','2']:\n",
    "            print(\"Sorry User it is not a acceptable choice\")\n",
    "    \n",
    "    return(int(choice))\n",
    "\n",
    "position_choice()"
   ]
  },
  {
   "cell_type": "code",
   "execution_count": 3,
   "metadata": {},
   "outputs": [
    {
     "name": "stdout",
     "output_type": "stream",
     "text": [
      "[0, 'ddddd', 2]\n"
     ]
    },
    {
     "data": {
      "text/plain": [
       "[0, 'ddddd', 2]"
      ]
     },
     "execution_count": 3,
     "metadata": {},
     "output_type": "execute_result"
    }
   ],
   "source": [
    "#THE NEXT FUNCTION WILL BE IF THE POSITON IS INSERTED CORRECTLY AND WE NEED TO CHOOSE AN REPLACEMENT VALUE THEN WE NEED TO CHOOSE :-\n",
    "\n",
    "\n",
    "#we are taking the game list and position as paramaters here\n",
    "def replacement_choice(game_list,position):\n",
    "\n",
    "    user_place = input(\"Type a word you want to replace at that position please : \")\n",
    "\n",
    "     # using list indexing we are chaning it here :\n",
    "    game_list[position] = user_place\n",
    "\n",
    "    print(game_list)\n",
    "    return game_list\n",
    "replacement_choice(game_list,1)\n"
   ]
  },
  {
   "cell_type": "code",
   "execution_count": 4,
   "metadata": {},
   "outputs": [
    {
     "data": {
      "text/plain": [
       "True"
      ]
     },
     "execution_count": 4,
     "metadata": {},
     "output_type": "execute_result"
    }
   ],
   "source": [
    "def gameon_choice():\n",
    "\n",
    "    choice = 'Wrong'\n",
    "\n",
    "# IF THE CHOICE IS NOT IN THE MENTIONED LIST THE WHILE LOOP WILL KEEP GOING ON AND ON ....\n",
    "\n",
    "    while choice not in ['Yes','No']:\n",
    "        choice = input(\"Do you want to keep playing user Yes or  No ?\")\n",
    "\n",
    "        # IF NOT CORRECT CHOICE AND INSIDE THE LOOP MEANS THIS IF BLOCK WILL ALSO GET EXECUTED HERE:-\n",
    "        if choice not in ['Yes','No']:\n",
    "            print(\"Sorry I dont understand , please choose Yes or No ...\")\n",
    "\n",
    "    if choice == 'Yes':\n",
    "        return True\n",
    "    else:\n",
    "        return False\n",
    "            \n",
    "gameon_choice()"
   ]
  },
  {
   "cell_type": "markdown",
   "metadata": {},
   "source": [
    "Game Logic where all the functions are combined into a single function here :-\n"
   ]
  },
  {
   "cell_type": "code",
   "execution_count": 6,
   "metadata": {},
   "outputs": [
    {
     "name": "stdout",
     "output_type": "stream",
     "text": [
      "Hello User here is my current list :\n",
      "\n",
      "['0', '1', '2']\n",
      "['0', 'Vijaypranav', '2']\n",
      "Hello User here is my current list :\n",
      "\n",
      "['0', 'Vijaypranav', '2']\n"
     ]
    }
   ],
   "source": [
    "game_on = True\n",
    "game_list = ['0','1','2']\n",
    "\n",
    "while game_on:\n",
    "\n",
    "     # function to display the current game list here\n",
    "     Display(game_list)\n",
    "\n",
    "     #Making the player choose a postion using the position function\n",
    "     position = position_choice()\n",
    "     \n",
    "     # Based on the postion we are replacing the newstring in the given position place here :-\n",
    "\n",
    "     game_list = replacement_choice(game_list,position)\n",
    "\n",
    "     Display(game_list)\n",
    "\n",
    "     game_on = gameon_choice()\n",
    "     \n",
    "     "
   ]
  },
  {
   "cell_type": "code",
   "execution_count": null,
   "metadata": {},
   "outputs": [],
   "source": [
    "\n"
   ]
  }
 ],
 "metadata": {
  "kernelspec": {
   "display_name": "Python 3",
   "language": "python",
   "name": "python3"
  },
  "language_info": {
   "codemirror_mode": {
    "name": "ipython",
    "version": 3
   },
   "file_extension": ".py",
   "mimetype": "text/x-python",
   "name": "python",
   "nbconvert_exporter": "python",
   "pygments_lexer": "ipython3",
   "version": "3.11.5"
  }
 },
 "nbformat": 4,
 "nbformat_minor": 2
}
