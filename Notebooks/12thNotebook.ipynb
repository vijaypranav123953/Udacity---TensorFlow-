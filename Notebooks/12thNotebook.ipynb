{
 "cells": [
  {
   "cell_type": "code",
   "execution_count": 2,
   "metadata": {},
   "outputs": [
    {
     "name": "stdout",
     "output_type": "stream",
     "text": [
      "             Displaying Informations         \n"
     ]
    }
   ],
   "source": [
    "print(\"             Displaying Informations         \")"
   ]
  },
  {
   "cell_type": "code",
   "execution_count": 6,
   "metadata": {},
   "outputs": [
    {
     "name": "stdout",
     "output_type": "stream",
     "text": [
      "[1, 2, 3]\n",
      "[' ', ' ', ' ']\n",
      "[1, 2, 3]\n"
     ]
    }
   ],
   "source": [
    "def display(row1,row2,row3):\n",
    "    print(row1)\n",
    "    print(row2)\n",
    "    print(row3)\n",
    "\n",
    "example_row1 = [1,2,3]\n",
    "example_row2 = [' ',' ',' ']\n",
    "example_row3 = [1,2,3]\n",
    "display(example_row1,example_row2,example_row3)"
   ]
  },
  {
   "cell_type": "code",
   "execution_count": 7,
   "metadata": {},
   "outputs": [
    {
     "name": "stdout",
     "output_type": "stream",
     "text": [
      "[' ', ' ', ' ']\n",
      "[' ', ' ', ' ']\n",
      "[' ', ' ', ' ']\n"
     ]
    }
   ],
   "source": [
    "row1 = [' ',' ',' ']\n",
    "row2 = [' ',' ',' ']\n",
    "row3 = [' ',' ',' ']\n",
    "display(row1,row2,row3)"
   ]
  },
  {
   "cell_type": "code",
   "execution_count": 8,
   "metadata": {},
   "outputs": [
    {
     "name": "stdout",
     "output_type": "stream",
     "text": [
      "[' ', ' ', ' ']\n",
      "[' ', 'X', ' ']\n",
      "[' ', ' ', ' ']\n"
     ]
    }
   ],
   "source": [
    "row2[1] = 'X'\n",
    "display(row1,row2,row3)"
   ]
  },
  {
   "cell_type": "code",
   "execution_count": 3,
   "metadata": {},
   "outputs": [
    {
     "name": "stdout",
     "output_type": "stream",
     "text": [
      "In this part of the code we are going to see about the Accepting the User Inputs here:- \n"
     ]
    }
   ],
   "source": [
    "# Displaying UserInformations Using the Functions or Python Code here:-\n",
    "print(\"In this part of the code we are going to see about the Accepting the User Inputs here:- \")"
   ]
  },
  {
   "cell_type": "code",
   "execution_count": 7,
   "metadata": {},
   "outputs": [
    {
     "name": "stdout",
     "output_type": "stream",
     "text": [
      "45\n",
      "<class 'str'>\n"
     ]
    }
   ],
   "source": [
    "# Accepting the User Inputs here:-\n",
    "# the user inputs can be obtained from the input function here\n",
    "\n",
    "\n",
    "result = input(\"Please enter a value here : \")\n",
    "print(result)\n",
    "print(type(result))\n",
    "\n",
    "# for changing the type of these we need to use the built in casting functions that are avaliable in the python modules \n"
   ]
  },
  {
   "cell_type": "code",
   "execution_count": 8,
   "metadata": {},
   "outputs": [
    {
     "name": "stdout",
     "output_type": "stream",
     "text": [
      "<class 'int'>\n"
     ]
    }
   ],
   "source": [
    "result12 = input(\"Please Enter a Value Here: \")\n",
    "result12 = int(result12)  # we are casting the type of the result to a integer type here seperately here\n",
    "print(type(result12))"
   ]
  },
  {
   "cell_type": "code",
   "execution_count": 9,
   "metadata": {},
   "outputs": [
    {
     "name": "stdout",
     "output_type": "stream",
     "text": [
      "2\n",
      "<class 'int'>\n"
     ]
    }
   ],
   "source": [
    "# TO get the result as the correct format itself we need to make sure they are in the correct format while taking the input itself here\n",
    "\n",
    "position_index = int(input(\"Choose an Index Postion here Please : \"))\n",
    "print(position_index)\n",
    "print(type(position_index))"
   ]
  },
  {
   "cell_type": "code",
   "execution_count": 4,
   "metadata": {},
   "outputs": [
    {
     "name": "stdout",
     "output_type": "stream",
     "text": [
      "                     VALIDATING USER INPUT              \n"
     ]
    }
   ],
   "source": [
    "#-------------------------------------------------------------\n",
    "# from this part there is the start of the second part of the coding here as it is:----\n",
    "print(\"                     VALIDATING USER INPUT              \")"
   ]
  },
  {
   "cell_type": "code",
   "execution_count": 9,
   "metadata": {},
   "outputs": [
    {
     "name": "stdout",
     "output_type": "stream",
     "text": [
      "Sorry User that is not a digit please try again!\n",
      "Sorry User that is not a digit please try again!\n",
      "Sorry User that is not a digit please try again!\n"
     ]
    },
    {
     "data": {
      "text/plain": [
       "5"
      ]
     },
     "execution_count": 9,
     "metadata": {},
     "output_type": "execute_result"
    }
   ],
   "source": [
    "def User_Aleteration():\n",
    "\n",
    "    choice = \"erroneous\"\n",
    "\n",
    "    while choice.isdigit() == False:\n",
    "\n",
    "        choice = input(\"Please enter a number (0-10) here : \")\n",
    "\n",
    "        if choice.isdigit() == False:\n",
    "            print(\"Sorry User that is not a digit please try again!\")\n",
    "            \n",
    "    return int(choice)\n",
    "\n",
    "User_Aleteration()"
   ]
  },
  {
   "cell_type": "code",
   "execution_count": 12,
   "metadata": {},
   "outputs": [
    {
     "name": "stdout",
     "output_type": "stream",
     "text": [
      "Sorry User that is not a digit please try again!\n",
      "Sorry user you are out of acceptable range here!!\n"
     ]
    },
    {
     "data": {
      "text/plain": [
       "2"
      ]
     },
     "execution_count": 12,
     "metadata": {},
     "output_type": "execute_result"
    }
   ],
   "source": [
    "\n",
    "# Now we have made sure that the datatype of the input is int so we made is exclusive as from the input\n",
    "#Now we also need to make sure that it is also present in the correct range as it is ....\n",
    "\n",
    "def User_Aleteration():\n",
    "  \n",
    "    #VARIABLES AND PLACEHOLDERS IN PLACE HERE:\n",
    "\n",
    "    #Initial values here\n",
    "    choice = \"erroneous\"\n",
    "    #Initial range here\n",
    "    acceptable_range = range(0,11)\n",
    "    within_range = False\n",
    "\n",
    "\n",
    "# THERE ARE TOTALLY TWO CONDITIONS TO CHECK HERE:\n",
    "    while choice.isdigit() == False or within_range == False:\n",
    "\n",
    "        choice = input(\"Please enter a number (0-10) here : \")\n",
    "\n",
    "        # Digit Check :---------------\n",
    "        if choice.isdigit() == False:\n",
    "            print(\"Sorry User that is not a digit please try again!\")\n",
    "\n",
    "        # Range check here:---------------------\n",
    "        if choice.isdigit() == True:\n",
    "            if int(choice) in acceptable_range:\n",
    "                within_range = True\n",
    "\n",
    "            else:\n",
    "                print(\"Sorry user you are out of acceptable range here!!\")\n",
    "                within_range = False\n",
    "\n",
    "        \n",
    "    return int(choice)\n",
    "\n",
    "User_Aleteration()"
   ]
  },
  {
   "cell_type": "markdown",
   "metadata": {},
   "source": [
    "                   SIMPLE USER INTERACTION :-                "
   ]
  },
  {
   "cell_type": "code",
   "execution_count": null,
   "metadata": {},
   "outputs": [],
   "source": []
  },
  {
   "cell_type": "code",
   "execution_count": null,
   "metadata": {},
   "outputs": [],
   "source": []
  },
  {
   "cell_type": "code",
   "execution_count": null,
   "metadata": {},
   "outputs": [],
   "source": []
  },
  {
   "cell_type": "code",
   "execution_count": null,
   "metadata": {},
   "outputs": [],
   "source": []
  },
  {
   "cell_type": "code",
   "execution_count": null,
   "metadata": {},
   "outputs": [],
   "source": []
  },
  {
   "cell_type": "code",
   "execution_count": null,
   "metadata": {},
   "outputs": [],
   "source": []
  }
 ],
 "metadata": {
  "kernelspec": {
   "display_name": "Python 3",
   "language": "python",
   "name": "python3"
  },
  "language_info": {
   "codemirror_mode": {
    "name": "ipython",
    "version": 3
   },
   "file_extension": ".py",
   "mimetype": "text/x-python",
   "name": "python",
   "nbconvert_exporter": "python",
   "pygments_lexer": "ipython3",
   "version": "3.11.5"
  }
 },
 "nbformat": 4,
 "nbformat_minor": 2
}
