{
 "cells": [
  {
   "cell_type": "code",
   "execution_count": 2,
   "metadata": {},
   "outputs": [],
   "source": [
    "'''This File Contains Lambda Expression and Map and Filters In Python here:-'''\n"
   ]
  },
  {
   "cell_type": "code",
   "execution_count": 8,
   "metadata": {},
   "outputs": [],
   "source": [
    "def Square(num):\n",
    "    return num**2\n"
   ]
  },
  {
   "cell_type": "code",
   "execution_count": 9,
   "metadata": {},
   "outputs": [],
   "source": [
    "my_nums = [1,2,3,4,5,6,7,8,9,10]"
   ]
  },
  {
   "cell_type": "code",
   "execution_count": 10,
   "metadata": {},
   "outputs": [
    {
     "name": "stdout",
     "output_type": "stream",
     "text": [
      "1\n",
      "4\n",
      "9\n",
      "16\n",
      "25\n",
      "36\n",
      "49\n",
      "64\n",
      "81\n",
      "100\n",
      "[1, 4, 9, 16, 25, 36, 49, 64, 81, 100]\n"
     ]
    }
   ],
   "source": [
    "'''now if we want to apply any function to all of the elements in the list we can use the for loop or to make things even simpler we can use the map function'''\n",
    "for i in map(Square,my_nums):\n",
    "    print(i)\n",
    "\n",
    "# from this we can even get the  list form using the list function here\n",
    "print(list(map(Square,my_nums)))\n"
   ]
  },
  {
   "cell_type": "code",
   "execution_count": 11,
   "metadata": {},
   "outputs": [],
   "source": [
    "def divider(object):\n",
    "    if len(object) %2 ==0:\n",
    "        return 'Even'\n",
    "    else:\n",
    "        return 'Odd'"
   ]
  },
  {
   "cell_type": "code",
   "execution_count": 13,
   "metadata": {},
   "outputs": [
    {
     "name": "stdout",
     "output_type": "stream",
     "text": [
      "['Odd', 'Even', 'Even', 'Odd']\n"
     ]
    }
   ],
   "source": [
    "names = ['VijayPranav','Amirtheesh','Umashankar','Sujatha']\n",
    "print(list(map(divider,names)))"
   ]
  },
  {
   "cell_type": "code",
   "execution_count": 1,
   "metadata": {},
   "outputs": [],
   "source": [
    "''' In this part we are again see the Lambda Expression and Map and Filters In Python here from the first:- '''\n"
   ]
  },
  {
   "cell_type": "code",
   "execution_count": 5,
   "metadata": {},
   "outputs": [
    {
     "data": {
      "text/plain": [
       "<map at 0x17c9b609840>"
      ]
     },
     "execution_count": 5,
     "metadata": {},
     "output_type": "execute_result"
    }
   ],
   "source": [
    "def square (num):\n",
    "    return num**2\n",
    "# this is outside the scope of the function so it is not inside the body of the function...\n",
    "my_nums = [5,6,7,8,9,2,3]\n",
    "map(square,my_nums)"
   ]
  },
  {
   "cell_type": "code",
   "execution_count": 7,
   "metadata": {},
   "outputs": [
    {
     "name": "stdout",
     "output_type": "stream",
     "text": [
      "25\n",
      "36\n",
      "49\n",
      "64\n",
      "81\n",
      "4\n",
      "9\n",
      "[25, 36, 49, 64, 81, 4, 9]\n"
     ]
    }
   ],
   "source": [
    "# now the map is created in the memeory location some but we are not able to acess it clearly for this we need to make sure the iteration concepts are use here:----\n",
    "for i in map(square,my_nums):\n",
    "    print(i)\n",
    "\n",
    "# method 2 is here to get back the actual list is :-\n",
    "print(list(map(square,my_nums)))\n"
   ]
  },
  {
   "cell_type": "code",
   "execution_count": 12,
   "metadata": {},
   "outputs": [
    {
     "name": "stdout",
     "output_type": "stream",
     "text": [
      "['The string has even number of characters', 'T', 'M', 'S']\n"
     ]
    }
   ],
   "source": [
    "def dividing_norter(mykab):\n",
    "    if len(mykab) %2 ==0:\n",
    "        return \"The string has even number of characters\"\n",
    "    else:\n",
    "        return mykab[0]\n",
    "names = ['Sylpha','Tao','Misha','Sasha']\n",
    "print(list(map(dividing_norter,names)))"
   ]
  },
  {
   "cell_type": "code",
   "execution_count": 15,
   "metadata": {},
   "outputs": [
    {
     "name": "stdout",
     "output_type": "stream",
     "text": [
      "[2, 4, 6, 8]\n"
     ]
    }
   ],
   "source": [
    "def check_number(integral):\n",
    "    return integral % 2 == 0\n",
    "\n",
    "integrals = [1,2,3,4,5,6,7,8]\n",
    "filter(check_number,integrals) # if we leave this as it is we will be again getting that a filter object is present at this place here we again need to use the loops here\n",
    "print(list(filter(check_number,integrals)))"
   ]
  },
  {
   "cell_type": "code",
   "execution_count": 16,
   "metadata": {},
   "outputs": [
    {
     "name": "stdout",
     "output_type": "stream",
     "text": [
      "2\n",
      "4\n",
      "6\n",
      "8\n"
     ]
    }
   ],
   "source": [
    "for lool in filter(check_number,integrals):\n",
    "    print(lool)"
   ]
  },
  {
   "cell_type": "code",
   "execution_count": 21,
   "metadata": {},
   "outputs": [
    {
     "name": "stdout",
     "output_type": "stream",
     "text": [
      "36\n"
     ]
    }
   ],
   "source": [
    "'''THIS PART OF THE CODE IS GOING TO CONTAIN THE LAMBDA EXPRESSIONS HERE :-'''\n",
    "doubling = lambda cardinalnumber : cardinalnumber ** 2\n",
    "print(doubling(6))\n",
    "# in the lambda expression what ever is on the opposite side of the : will be returned as the result here\n",
    "\n",
    "# lambdas are like the functions that can be used only one time we can use the lambda only one time in the entire code if we to use them to return another statment or do more than one task we need to write again another lambda function here:-"
   ]
  },
  {
   "cell_type": "code",
   "execution_count": 22,
   "metadata": {},
   "outputs": [
    {
     "data": {
      "text/plain": [
       "49"
      ]
     },
     "execution_count": 22,
     "metadata": {},
     "output_type": "execute_result"
    }
   ],
   "source": [
    "doubling(7)\n",
    "# here as shown below we need not acutally need to define the whole function here:-"
   ]
  },
  {
   "cell_type": "code",
   "execution_count": 24,
   "metadata": {},
   "outputs": [
    {
     "name": "stdout",
     "output_type": "stream",
     "text": [
      "[25, 36, 49, 64, 81, 4, 9]\n"
     ]
    }
   ],
   "source": [
    "print(list(map(lambda num: num**2,my_nums)))"
   ]
  },
  {
   "cell_type": "code",
   "execution_count": 26,
   "metadata": {},
   "outputs": [
    {
     "data": {
      "text/plain": [
       "[6, 8, 2]"
      ]
     },
     "execution_count": 26,
     "metadata": {},
     "output_type": "execute_result"
    }
   ],
   "source": [
    "list(filter(lambda num: num %2 ==0,my_nums))\n",
    "# here we are returning only the second part of the lambda function that means only the :nd part of the lambad function in the whole list is returned here:-"
   ]
  },
  {
   "cell_type": "code",
   "execution_count": 28,
   "metadata": {},
   "outputs": [
    {
     "data": {
      "text/plain": [
       "['Sylpha', 'Tao', 'Misha', 'Sasha']"
      ]
     },
     "execution_count": 28,
     "metadata": {},
     "output_type": "execute_result"
    }
   ],
   "source": [
    "names"
   ]
  },
  {
   "cell_type": "code",
   "execution_count": 36,
   "metadata": {},
   "outputs": [
    {
     "data": {
      "text/plain": [
       "['ahplyS', 'oaT', 'ahsiM', 'ahsaS']"
      ]
     },
     "execution_count": 36,
     "metadata": {},
     "output_type": "execute_result"
    }
   ],
   "source": [
    "list(map(lambda name:name[::-1],names))"
   ]
  },
  {
   "cell_type": "code",
   "execution_count": null,
   "metadata": {},
   "outputs": [],
   "source": [
    "''' IN This Part of the Document we are going to see about the nested statements and scopes in the Python Language::'''"
   ]
  },
  {
   "cell_type": "code",
   "execution_count": 2,
   "metadata": {},
   "outputs": [
    {
     "name": "stdout",
     "output_type": "stream",
     "text": [
      "25\n",
      "50\n"
     ]
    }
   ],
   "source": [
    "x = 25\n",
    "\n",
    "def PrintedOutput():\n",
    "    x = 50\n",
    "    return x\n",
    "\n",
    "print(x) # the first one is acessing the global variables \n",
    "print(PrintedOutput()) # the second one is acessing the local variables that are defined inside the function here:"
   ]
  },
  {
   "cell_type": "code",
   "execution_count": 6,
   "metadata": {},
   "outputs": [
    {
     "name": "stdout",
     "output_type": "stream",
     "text": [
      "Hello My name is  I am thara Local vera Level\n"
     ]
    }
   ],
   "source": [
    "\n",
    "#GLOBAL VARIABLE HERE\n",
    "name = 'THIS IS A GLOBAL STRING HERE'\n",
    "\n",
    "def greet():\n",
    "    # ENCLOSING FUNCTION VARIABLE HERE\n",
    "    name = 'Rachel'\n",
    "\n",
    "    def hello():\n",
    "        # LOCAL VARIABLE HERE\n",
    "        name = \" I am thara Local vera Level\"\n",
    "        print(\"Hello My name is \"+name)\n",
    "    \n",
    "    hello()\n",
    "greet()\n",
    "    "
   ]
  },
  {
   "cell_type": "code",
   "execution_count": 4,
   "metadata": {},
   "outputs": [
    {
     "name": "stdout",
     "output_type": "stream",
     "text": [
      " X here is 500 \n",
      " I Just Locally Changed  Global X To NEW VALUE\n"
     ]
    }
   ],
   "source": [
    "x = 500\n",
    "\n",
    "def fuct():\n",
    " \n",
    "    global x\n",
    "    print(f' X here is {x} ')\n",
    "\n",
    "    #NOW WE ARE DOING A LOCAL REASSIGNMENT\n",
    "\n",
    "    x = \"NEW VALUE\"\n",
    "    print(f' I Just Locally Changed  Global X To {x}')\n",
    "\n",
    "fuct()"
   ]
  },
  {
   "cell_type": "code",
   "execution_count": 5,
   "metadata": {},
   "outputs": [
    {
     "name": "stdout",
     "output_type": "stream",
     "text": [
      "NEW VALUE\n"
     ]
    }
   ],
   "source": [
    "print(x)"
   ]
  },
  {
   "cell_type": "code",
   "execution_count": 9,
   "metadata": {},
   "outputs": [],
   "source": [
    "# In general we use a even much better path then the combined way of that one the better method that is avaliable here is that\n",
    "\n",
    "x = 500\n",
    "\n",
    "def fuct(x):\n",
    " \n",
    "    print(f' X here is {x} ')\n",
    "\n",
    "    #NOW WE ARE DOING A LOCAL REASSIGNMENT\n",
    "\n",
    "    x = \"NEW VALUE\"\n",
    "    print(f' I Just Locally Changed X To {x}')\n",
    "    return x\n",
    "\n"
   ]
  },
  {
   "cell_type": "code",
   "execution_count": 13,
   "metadata": {},
   "outputs": [
    {
     "name": "stdout",
     "output_type": "stream",
     "text": [
      "NEW VALUE\n",
      " X here is NEW VALUE \n",
      " I Just Locally Changed  Global X To NEW VALUE\n",
      "NEW VALUE\n"
     ]
    }
   ],
   "source": [
    "print(x)\n",
    "x = fuct(x) # now we are changing the global variable outside the function which is the correct method so in case of any error it will be easy to debug the function here...\n",
    "print(x)"
   ]
  },
  {
   "cell_type": "code",
   "execution_count": null,
   "metadata": {},
   "outputs": [],
   "source": []
  }
 ],
 "metadata": {
  "kernelspec": {
   "display_name": "Python 3",
   "language": "python",
   "name": "python3"
  },
  "language_info": {
   "codemirror_mode": {
    "name": "ipython",
    "version": 3
   },
   "file_extension": ".py",
   "mimetype": "text/x-python",
   "name": "python",
   "nbconvert_exporter": "python",
   "pygments_lexer": "ipython3",
   "version": "3.11.5"
  }
 },
 "nbformat": 4,
 "nbformat_minor": 2
}
