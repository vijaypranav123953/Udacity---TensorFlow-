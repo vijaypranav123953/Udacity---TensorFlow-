{
 "cells": [
  {
   "cell_type": "code",
   "execution_count": null,
   "metadata": {},
   "outputs": [],
   "source": [
    "''' In this Document we are going to see the *args and **kwargs here:- '''\n",
    "# Whole thing related to the python program :-----------------\n"
   ]
  },
  {
   "cell_type": "code",
   "execution_count": 3,
   "metadata": {},
   "outputs": [
    {
     "name": "stdout",
     "output_type": "stream",
     "text": [
      "5.800000000000001\n"
     ]
    }
   ],
   "source": [
    "def myBussiness(x,y):\n",
    "    #This func Returns 5% of the sum of the a and b here:--\n",
    "      return sum((x,y))*0.05\n",
    "\n",
    "v = myBussiness(42,74)\n",
    "print(v)"
   ]
  },
  {
   "cell_type": "code",
   "execution_count": 11,
   "metadata": {},
   "outputs": [
    {
     "name": "stdout",
     "output_type": "stream",
     "text": [
      "(73, 59, 67)\n",
      "9.950000000000001\n"
     ]
    }
   ],
   "source": [
    "def myfunc(*args):  # this allows or indicate the function to consider this as a tuple such that a bunch of variables are comming inside here:-\n",
    "    print(args)\n",
    "    return sum(args) *0.05\n",
    "    \n",
    "b = myfunc(73,59,67)\n",
    "print(b)\n"
   ]
  },
  {
   "cell_type": "code",
   "execution_count": 13,
   "metadata": {},
   "outputs": [
    {
     "name": "stdout",
     "output_type": "stream",
     "text": [
      "90\n",
      "45\n",
      "67\n",
      "84\n",
      "78\n",
      "93\n",
      "12\n",
      "26\n",
      "38\n"
     ]
    }
   ],
   "source": [
    "# we can even consider the args as an iteratable  and can do the looping inside they things effectively\n",
    "\n",
    "def to_rost(*args):\n",
    "    for item in args:\n",
    "        print(item)\n",
    "to_rost(90,45,67,84,78,93,12,26,38)"
   ]
  },
  {
   "cell_type": "code",
   "execution_count": 17,
   "metadata": {},
   "outputs": [
    {
     "name": "stdout",
     "output_type": "stream",
     "text": [
      "{'fruit': 'apple', 'veggie': 'Potato'}\n",
      "My Fruit of the choice is apple\n"
     ]
    }
   ],
   "source": [
    "''' the **kwargs are key word argument that are used to buil the dictionary here'''\n",
    "def myfunc(**kwargs):\n",
    "    print(kwargs)\n",
    "    if 'fruit' in kwargs:\n",
    "        print('My Fruit of the choice is {}'.format(kwargs['fruit']))\n",
    "    else:\n",
    "        print(\"I did not find any kind of furits here :-\")\n",
    "\n",
    "myfunc(fruit = 'apple',veggie = 'Potato')"
   ]
  },
  {
   "cell_type": "code",
   "execution_count": 18,
   "metadata": {},
   "outputs": [
    {
     "name": "stdout",
     "output_type": "stream",
     "text": [
      "I would like 10 Pasta 20\n"
     ]
    }
   ],
   "source": [
    "#In python we can actually use these things in the combination also without any kind of problems here:-\n",
    "\n",
    "def myfunc(*args,**kwargs):\n",
    "    print('I would like {} {} {}'.format(args[0],kwargs['food'],args[1]))\n",
    "\n",
    "myfunc(10,20,30,food = 'Pasta',animal = 'dog',fruit = 'Peaches')"
   ]
  },
  {
   "cell_type": "code",
   "execution_count": null,
   "metadata": {},
   "outputs": [],
   "source": [
    "''' Function Practise Problems:-'''\n",
    "# this part of the code is going to contain some of the practise problems of the functions in python "
   ]
  },
  {
   "cell_type": "code",
   "execution_count": null,
   "metadata": {},
   "outputs": [],
   "source": []
  },
  {
   "cell_type": "code",
   "execution_count": null,
   "metadata": {},
   "outputs": [],
   "source": []
  },
  {
   "cell_type": "code",
   "execution_count": null,
   "metadata": {},
   "outputs": [],
   "source": []
  },
  {
   "cell_type": "code",
   "execution_count": null,
   "metadata": {},
   "outputs": [],
   "source": []
  },
  {
   "cell_type": "code",
   "execution_count": null,
   "metadata": {},
   "outputs": [],
   "source": []
  }
 ],
 "metadata": {
  "kernelspec": {
   "display_name": "Python 3",
   "language": "python",
   "name": "python3"
  },
  "language_info": {
   "codemirror_mode": {
    "name": "ipython",
    "version": 3
   },
   "file_extension": ".py",
   "mimetype": "text/x-python",
   "name": "python",
   "nbconvert_exporter": "python",
   "pygments_lexer": "ipython3",
   "version": "3.11.5"
  }
 },
 "nbformat": 4,
 "nbformat_minor": 2
}
