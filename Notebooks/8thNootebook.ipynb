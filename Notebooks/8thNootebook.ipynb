{
 "cells": [
  {
   "cell_type": "code",
   "execution_count": 5,
   "metadata": {},
   "outputs": [
    {
     "data": {
      "text/plain": [
       "'  Functions in Python :---'"
      ]
     },
     "execution_count": 5,
     "metadata": {},
     "output_type": "execute_result"
    }
   ],
   "source": [
    "'''  Functions in Python :---'''\n",
    "# with the use of snake casing the name of the python functions are written so they are preety much easy to find out."
   ]
  },
  {
   "cell_type": "code",
   "execution_count": 9,
   "metadata": {},
   "outputs": [
    {
     "name": "stdout",
     "output_type": "stream",
     "text": [
      "Hello VijayPranav\n",
      "Hello User\n"
     ]
    }
   ],
   "source": [
    "def Display(name = 'User'):\n",
    "    print(f'Hello {name}')\n",
    "\n",
    "# In some cases when the parameter is not provided then we can use the default value mentioned in the function\n",
    "\n",
    "name = input(\"Please enter your Fucking Name!\")\n",
    "Display(name)\n",
    "Display()"
   ]
  },
  {
   "cell_type": "code",
   "execution_count": 12,
   "metadata": {},
   "outputs": [
    {
     "name": "stdout",
     "output_type": "stream",
     "text": [
      "26\n"
     ]
    }
   ],
   "source": [
    "def add_num(num1,num2):\n",
    "    return num1+num2\n",
    "\n",
    "num1 = int(input(\"please enter the number here:-\"))\n",
    "num2 = int(input(\"please enter the number here:-\"))\n",
    "result = add_num(num1,num2)\n",
    "print(result)"
   ]
  },
  {
   "cell_type": "code",
   "execution_count": 3,
   "metadata": {},
   "outputs": [
    {
     "name": "stdout",
     "output_type": "stream",
     "text": [
      "True\n",
      "False\n"
     ]
    }
   ],
   "source": [
    "def Even_check(number):\n",
    "    result = number %2 ==0\n",
    "    return result\n",
    "print(Even_check(90))\n",
    "print(Even_check(115))   # now we have a function which checks weather a single number is odd or even"
   ]
  },
  {
   "cell_type": "code",
   "execution_count": 12,
   "metadata": {},
   "outputs": [
    {
     "name": "stdout",
     "output_type": "stream",
     "text": [
      "---------------------------------\n",
      "\n",
      "Odd Number:- 1\n",
      "Even Number:- 2\n",
      "Odd Number:- 3\n",
      "Even Number:- 4\n",
      "Odd Number:- 5\n",
      "Even Number:- 6\n",
      "Odd Number:- 7\n",
      "Even Number:- 8\n",
      "Odd Number:- 9\n",
      "Even Number:- 10\n",
      "Odd Number:- 11\n"
     ]
    }
   ],
   "source": [
    "# now here we are having a function to check the list of numbers in the function \n",
    "'''RETURN TRUE IF ANY NUMBER IS EVEN INSIDE A LIST:-'''\n",
    "def check_even_list(num_list):\n",
    "    for number in num_list:\n",
    "        v = int(number)\n",
    "        if v % 2 ==0:\n",
    "            print(\"Even Number:-\",number)\n",
    "        else:\n",
    "            print(\"Odd Number:-\",number)\n",
    "\n",
    "#num_list = list(input(\"Please enter a list here\"))\n",
    "#print(num_list)\n",
    "#check_even_list(num_list)\n",
    "print(\"---------------------------------\")\n",
    "print()\n",
    "num_list = [1,2,3,4,5,6,7,8,9,10,11]\n",
    "check_even_list(num_list)"
   ]
  },
  {
   "cell_type": "code",
   "execution_count": 15,
   "metadata": {},
   "outputs": [
    {
     "name": "stdout",
     "output_type": "stream",
     "text": [
      "True\n",
      "False\n",
      "True\n",
      "True\n"
     ]
    }
   ],
   "source": [
    "# checking the presence the odd and even numbers in the list possible here:-\n",
    "\n",
    "def check_list(num_list):\n",
    "    for number in num_list:\n",
    "        if number %2 ==0:\n",
    "            return True\n",
    "        else:\n",
    "            pass\n",
    "\n",
    "    return False\n",
    "\n",
    "\n",
    "print(check_list([1,2,3,5]))\n",
    "print(check_list([1,9,3,5]))\n",
    "print(check_list([1,9,4,5]))\n",
    "print(check_list([2,7,3,5]))"
   ]
  },
  {
   "cell_type": "code",
   "execution_count": 19,
   "metadata": {},
   "outputs": [
    {
     "name": "stdout",
     "output_type": "stream",
     "text": [
      "[2, 4, 6, 8, 10, 12]\n",
      "[]\n"
     ]
    }
   ],
   "source": [
    "# function to return all the even numbers in the list and just ignore if there are only odd numbers in the list:-\n",
    "\n",
    "def list_manupulaion(check_list):\n",
    "\n",
    "#place holder variables\n",
    "    even_numbers = []\n",
    "\n",
    "    for number in check_list:\n",
    "        if number%2 ==0:\n",
    "            even_numbers.append(number)\n",
    "\n",
    "        else:\n",
    "            pass\n",
    "\n",
    "\n",
    "    return even_numbers\n",
    "\n",
    "check_list = [1,2,3,4,5,6,7,8,9,10,11,12]\n",
    "print(list_manupulaion(check_list))\n",
    "check_list = [1,3,5,7,9,11]\n",
    "print(list_manupulaion(check_list))"
   ]
  },
  {
   "cell_type": "code",
   "execution_count": 1,
   "metadata": {},
   "outputs": [
    {
     "name": "stdout",
     "output_type": "stream",
     "text": [
      "('APPLE', 2000)\n",
      "('GOOGle', 400)\n",
      "('MSFT', 100)\n"
     ]
    }
   ],
   "source": [
    "stock_prices = [('APPLE',2000),('GOOGle',400),('MSFT',100)]\n",
    "# using the for loop we can print the tuple value pairs\n",
    "for item in stock_prices:\n",
    "    print(item)"
   ]
  },
  {
   "cell_type": "code",
   "execution_count": 2,
   "metadata": {},
   "outputs": [
    {
     "name": "stdout",
     "output_type": "stream",
     "text": [
      "APPLE\n",
      "2000\n",
      "GOOGle\n",
      "400\n",
      "MSFT\n",
      "100\n"
     ]
    }
   ],
   "source": [
    "for a,b in stock_prices:\n",
    "    print(a)\n",
    "    print(b)"
   ]
  },
  {
   "cell_type": "code",
   "execution_count": 3,
   "metadata": {},
   "outputs": [
    {
     "name": "stdout",
     "output_type": "stream",
     "text": [
      "2200.0\n",
      "440.0\n",
      "110.0\n"
     ]
    }
   ],
   "source": [
    "#we can also do the things like (10%increase in the prices)\n",
    "for brand,price in stock_prices:\n",
    "    print(price+(0.1*price))"
   ]
  },
  {
   "cell_type": "code",
   "execution_count": 9,
   "metadata": {},
   "outputs": [],
   "source": [
    "''' we can also do the same things using a function and then unpack the result of the obtained function tuples:- '''\n",
    "\n",
    "work_hours = [('Naveen kumar',10000),('Amirtheesh',4000),('Cathrine',800)]"
   ]
  },
  {
   "cell_type": "code",
   "execution_count": 11,
   "metadata": {},
   "outputs": [
    {
     "name": "stdout",
     "output_type": "stream",
     "text": [
      "('Naveen kumar', 10000)\n",
      "Naveen kumar\n",
      "10000\n"
     ]
    }
   ],
   "source": [
    "def employee_check(work_hours):\n",
    "\n",
    "    # placeholder variables\n",
    "    current_maxie = 0\n",
    "    slave_of_destiny  = ''\n",
    "\n",
    "    for employee,hours in work_hours:\n",
    "        if hours > current_maxie:\n",
    "           current_maxie = hours\n",
    "           slave_of_destiny = employee\n",
    "        else:\n",
    "            pass\n",
    "    #Return the following:-\n",
    "    return(slave_of_destiny,current_maxie)\n",
    "print(employee_check(work_hours))\n",
    "name,time = employee_check(work_hours)\n",
    "print(name)       #we can do the tuple unpacking in a function also\n",
    "print(time)"
   ]
  },
  {
   "cell_type": "code",
   "execution_count": null,
   "metadata": {},
   "outputs": [],
   "source": []
  },
  {
   "cell_type": "code",
   "execution_count": null,
   "metadata": {},
   "outputs": [],
   "source": []
  }
 ],
 "metadata": {
  "kernelspec": {
   "display_name": "Python 3",
   "language": "python",
   "name": "python3"
  },
  "language_info": {
   "codemirror_mode": {
    "name": "ipython",
    "version": 3
   },
   "file_extension": ".py",
   "mimetype": "text/x-python",
   "name": "python",
   "nbconvert_exporter": "python",
   "pygments_lexer": "ipython3",
   "version": "3.11.5"
  }
 },
 "nbformat": 4,
 "nbformat_minor": 2
}
