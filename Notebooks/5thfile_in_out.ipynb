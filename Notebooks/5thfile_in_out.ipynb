{
 "cells": [
  {
   "cell_type": "code",
   "execution_count": 30,
   "metadata": {},
   "outputs": [
    {
     "name": "stdout",
     "output_type": "stream",
     "text": [
      "Overwriting mytestfile.txt\n"
     ]
    }
   ],
   "source": [
    "%%writefile mytestfile.txt\n",
    "Hello this is a text file  # this method of creating and writing the file is only avaliable in the jupiter notebook in other idles we cannot use this\n",
    "this is the second line\n",
    "this is the third line\n",
    "this is the fourth line \n"
   ]
  },
  {
   "cell_type": "code",
   "execution_count": 31,
   "metadata": {},
   "outputs": [],
   "source": [
    "myfile = open('mytestfile.txt')\n",
    "# sometime we will get file notfound error even if we did not provide the correct file path\n",
    "# the pwd will orginally work if we are in anoconda jupiter notebook"
   ]
  },
  {
   "cell_type": "code",
   "execution_count": 32,
   "metadata": {},
   "outputs": [
    {
     "data": {
      "text/plain": [
       "'c:\\\\python from zero to hero'"
      ]
     },
     "execution_count": 32,
     "metadata": {},
     "output_type": "execute_result"
    }
   ],
   "source": [
    "pwd # for this pwd to work please give it in a seperate cell to find out the path needed"
   ]
  },
  {
   "cell_type": "code",
   "execution_count": 33,
   "metadata": {},
   "outputs": [
    {
     "data": {
      "text/plain": [
       "'Hello this is a text file  # this method of creating and writing the file is only avaliable in the jupiter notebook in other idles we cannot use this\\nthis is the second line\\nthis is the third line\\nthis is the fourth line \\n'"
      ]
     },
     "execution_count": 33,
     "metadata": {},
     "output_type": "execute_result"
    }
   ],
   "source": [
    "myfile = open('mytestfile.txt')\n",
    "myfile.read() # here we are asking for everything in a single line here so \\n represent the next line character"
   ]
  },
  {
   "cell_type": "code",
   "execution_count": 34,
   "metadata": {},
   "outputs": [
    {
     "name": "stdout",
     "output_type": "stream",
     "text": [
      "\n",
      "Hello this is a text file  # this method of creating and writing the file is only avaliable in the jupiter notebook in other idles we cannot use this\n",
      "this is the second line\n",
      "this is the third line\n",
      "this is the fourth line \n",
      "\n"
     ]
    }
   ],
   "source": [
    "#now the cursor is at the end of the file if we try to read the file again then we will get an empty string now see\n",
    "v = myfile.read()\n",
    "print(v) # as nothing is there it is printing empty space\n",
    "''' now we have to again adjust the pointer to starting for that we can use the seek function to adjust the postion of the pointer'''\n",
    "myfile.seek(0)\n",
    "contents = myfile.read()\n",
    "print(contents)"
   ]
  },
  {
   "cell_type": "code",
   "execution_count": 35,
   "metadata": {},
   "outputs": [
    {
     "name": "stdout",
     "output_type": "stream",
     "text": [
      "['Hello this is a text file  # this method of creating and writing the file is only avaliable in the jupiter notebook in other idles we cannot use this\\n', 'this is the second line\\n', 'this is the third line\\n', 'this is the fourth line \\n']\n"
     ]
    }
   ],
   "source": [
    "myfile.seek(0)\n",
    "v2 = myfile.readlines()\n",
    "print(v2) # each line is there as a seperate element in the list\n",
    "myfile.close()"
   ]
  },
  {
   "cell_type": "code",
   "execution_count": 37,
   "metadata": {},
   "outputs": [],
   "source": [
    "# to open a text file saved in other location  other than the notebook folder\n",
    "#   For Windows you need to use double \\ so python doesn't treat the second \\ as an escape character, a file path is in the form:\n",
    "#  myfile = open(\"C:\\\\Users\\\\YourUserName\\\\Home\\\\Folder\\\\myfile.txt\")\n",
    "# if we use the with open method to open the file then there is no need for us to again close the file manually by ourself"
   ]
  },
  {
   "cell_type": "code",
   "execution_count": 38,
   "metadata": {},
   "outputs": [
    {
     "name": "stdout",
     "output_type": "stream",
     "text": [
      "['Hello this is a text file  # this method of creating and writing the file is only avaliable in the jupiter notebook in other idles we cannot use this\\n', 'this is the second line\\n', 'this is the third line\\n', 'this is the fourth line \\n']\n"
     ]
    }
   ],
   "source": [
    "with open('mytestfile.txt') as var_one:\n",
    "    contents = var_one.readlines()\n",
    "    print(contents)  # this is similar to open method only this is that here the file will automatically close insted of us manually closing it"
   ]
  },
  {
   "cell_type": "code",
   "execution_count": 48,
   "metadata": {},
   "outputs": [
    {
     "name": "stdout",
     "output_type": "stream",
     "text": [
      "\n"
     ]
    }
   ],
   "source": [
    "''' writing and overwriting in the files in python'''\n",
    "with open('mytestfile.txt',mode='w+') as one:\n",
    "    v = one.read()  # if we open the file in write (w) mode then we only have permission to write to a file \n",
    "    print(v)"
   ]
  },
  {
   "cell_type": "code",
   "execution_count": 77,
   "metadata": {},
   "outputs": [
    {
     "name": "stdout",
     "output_type": "stream",
     "text": [
      "Overwriting my_new_file.txt\n"
     ]
    }
   ],
   "source": [
    "%%writefile my_new_file.txt\n",
    "ONE  ON FIRST\n",
    "TWO ON SECOND\n",
    "THREE ON THIRD\n",
    "FOUR ON FOUTH\n",
    "FIVE ON FIVETH\n",
    "SIX ON SIXTH\n"
   ]
  },
  {
   "cell_type": "code",
   "execution_count": 78,
   "metadata": {},
   "outputs": [
    {
     "name": "stdout",
     "output_type": "stream",
     "text": [
      "ONE  ON FIRST\n",
      "TWO ON SECOND\n",
      "THREE ON THIRD\n",
      "FOUR ON FOUTH\n",
      "FIVE ON FIVETH\n",
      "SIX ON SIXTH\n",
      "\n"
     ]
    }
   ],
   "source": [
    "with open('my_new_file.txt',mode='r') as f:\n",
    "    print(f.read())"
   ]
  },
  {
   "cell_type": "code",
   "execution_count": 79,
   "metadata": {},
   "outputs": [],
   "source": [
    "with open('my_new_file.txt',mode='a') as f:\n",
    "    # the a mode add a new line at the end of the file with the exiting data intact and also creates a new file if the file does not exist\n",
    "    f.write('\\nyour body is too sexy babe and i am not able to stop my hips from movig')"
   ]
  },
  {
   "cell_type": "code",
   "execution_count": 80,
   "metadata": {},
   "outputs": [
    {
     "name": "stdout",
     "output_type": "stream",
     "text": [
      "ONE  ON FIRST\n",
      "TWO ON SECOND\n",
      "THREE ON THIRD\n",
      "FOUR ON FOUTH\n",
      "FIVE ON FIVETH\n",
      "SIX ON SIXTH\n",
      "\n",
      "your body is too sexy babe and i am not able to stop my hips from movig\n"
     ]
    }
   ],
   "source": [
    "with open('my_new_file.txt',mode='r') as f:\n",
    "    print(f.read())"
   ]
  },
  {
   "cell_type": "code",
   "execution_count": 81,
   "metadata": {},
   "outputs": [],
   "source": [
    "with open('my_new_file.txt',mode='a') as f:\n",
    "    # the a mode add a new line at the end of the file with the exiting data intact and also creates a new file if the file does not exist\n",
    "    f.seek(0)\n",
    "    f.write(\"\\n babe i will definitely make you pregenent dont't worry\")  # in the w and w + mode it will overwrite the file if we start from index o but it is not the case in append"
   ]
  },
  {
   "cell_type": "code",
   "execution_count": 82,
   "metadata": {},
   "outputs": [
    {
     "name": "stdout",
     "output_type": "stream",
     "text": [
      "ONE  ON FIRST\n",
      "TWO ON SECOND\n",
      "THREE ON THIRD\n",
      "FOUR ON FOUTH\n",
      "FIVE ON FIVETH\n",
      "SIX ON SIXTH\n",
      "\n",
      "your body is too sexy babe and i am not able to stop my hips from movig\n",
      " babe i will definitely make you pregenent dont't worry\n"
     ]
    }
   ],
   "source": [
    "with open('my_new_file.txt',mode='r') as f:\n",
    "    f.seek(0)\n",
    "    print(f.read())"
   ]
  },
  {
   "cell_type": "code",
   "execution_count": 83,
   "metadata": {},
   "outputs": [],
   "source": [
    "with open('my_new_file.txt',mode='w') as f:\n",
    "    # the a mode add a new line at the end of the file with the exiting data intact and also creates a new file if the file does not exist\n",
    "    f.seek(0)\n",
    "    f.write(\"\\n babe i will definitely make you pregenent dont't worry\")  # in the w and w + mode it will overwrite the file if we start from index o but it is not the case in append "
   ]
  },
  {
   "cell_type": "code",
   "execution_count": 84,
   "metadata": {},
   "outputs": [
    {
     "name": "stdout",
     "output_type": "stream",
     "text": [
      "\n",
      " babe i will definitely make you pregenent dont't worry\n"
     ]
    }
   ],
   "source": [
    "with open('my_new_file.txt',mode='r') as f:\n",
    "    f.seek(0)\n",
    "    print(f.read())"
   ]
  },
  {
   "cell_type": "code",
   "execution_count": 89,
   "metadata": {},
   "outputs": [],
   "source": [
    "with open(\"vijaypranav.txt\",mode='w') as w:\n",
    "    w.write('I CREATED YOU STUPID MANIAC')"
   ]
  },
  {
   "cell_type": "code",
   "execution_count": 92,
   "metadata": {},
   "outputs": [
    {
     "name": "stdout",
     "output_type": "stream",
     "text": [
      "I CREATED YOU STUPID MANIAC\n"
     ]
    }
   ],
   "source": [
    "with open(\"vijaypranav.txt\",mode='r') as w:\n",
    "    print(w.read())\n"
   ]
  },
  {
   "cell_type": "code",
   "execution_count": null,
   "metadata": {},
   "outputs": [],
   "source": []
  },
  {
   "cell_type": "code",
   "execution_count": null,
   "metadata": {},
   "outputs": [],
   "source": []
  },
  {
   "cell_type": "code",
   "execution_count": null,
   "metadata": {},
   "outputs": [],
   "source": []
  },
  {
   "cell_type": "code",
   "execution_count": null,
   "metadata": {},
   "outputs": [],
   "source": []
  },
  {
   "cell_type": "code",
   "execution_count": null,
   "metadata": {},
   "outputs": [],
   "source": []
  }
 ],
 "metadata": {
  "kernelspec": {
   "display_name": "Python 3",
   "language": "python",
   "name": "python3"
  },
  "language_info": {
   "codemirror_mode": {
    "name": "ipython",
    "version": 3
   },
   "file_extension": ".py",
   "mimetype": "text/x-python",
   "name": "python",
   "nbconvert_exporter": "python",
   "pygments_lexer": "ipython3",
   "version": "3.11.5"
  }
 },
 "nbformat": 4,
 "nbformat_minor": 2
}
