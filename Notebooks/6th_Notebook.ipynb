{
 "cells": [
  {
   "cell_type": "code",
   "execution_count": 2,
   "metadata": {},
   "outputs": [],
   "source": [
    "'''                    Python Comparision Operators - which result in boolean value                '''\n"
   ]
  },
  {
   "cell_type": "code",
   "execution_count": 8,
   "metadata": {},
   "outputs": [
    {
     "name": "stdout",
     "output_type": "stream",
     "text": [
      "True\n",
      "False\n",
      "False\n",
      "False\n",
      "False\n",
      "True\n"
     ]
    }
   ],
   "source": [
    "print(2==2)\n",
    "print(2==1)  # comparing weather the value on the lhs is equal to the value on the rhs\n",
    "print(\"hello\" == \"bye\")\n",
    "print(\"Hello\" == \"hello\") # when we are comming to strings even captilization counts here\n",
    "print('2'==2) # the datatype of the value also counts\n",
    "\n",
    "#only for the floating point and integers this will not be considered as the belong to same type numbers\n",
    "print(2.0==2)"
   ]
  },
  {
   "cell_type": "code",
   "execution_count": 11,
   "metadata": {},
   "outputs": [
    {
     "name": "stdout",
     "output_type": "stream",
     "text": [
      "False\n",
      "True\n",
      "True\n",
      "False\n",
      "True\n",
      "True\n"
     ]
    }
   ],
   "source": [
    "#Now there is also the not equal to operator \n",
    "print(3 !=3)\n",
    "print(4!=5)\n",
    "# then the greater and less that operator is also  present here\n",
    "print(2>1)\n",
    "print(1>2)\n",
    "print(1<2)\n",
    "print(2<5)\n",
    "\n"
   ]
  },
  {
   "cell_type": "code",
   "execution_count": 13,
   "metadata": {},
   "outputs": [
    {
     "name": "stdout",
     "output_type": "stream",
     "text": [
      "True\n",
      "False\n"
     ]
    }
   ],
   "source": [
    "# there are also the greater than or = or less than or = operators here:-\n",
    "\n",
    "print(2>=2)\n",
    "print(4<=1)"
   ]
  },
  {
   "cell_type": "code",
   "execution_count": 21,
   "metadata": {},
   "outputs": [
    {
     "name": "stdout",
     "output_type": "stream",
     "text": [
      "True\n",
      "False\n",
      "False\n",
      "True\n",
      "True\n"
     ]
    }
   ],
   "source": [
    "#' Chanining comparison operators in python with the logical operators :-'\n",
    "\n",
    "# the three main logical operators are\n",
    "'''And\n",
    "Or\n",
    "Not'''\n",
    "print(1<2<3)\n",
    "print(1<2>3)  # but for complex comparsion this type of chaining will not work\n",
    "print(1<2 and 2>3)\n",
    "print(1<2 and 2<3)\n",
    "\n",
    "print(('vijay' == 'vijay') and (1234 == 1234))"
   ]
  },
  {
   "cell_type": "code",
   "execution_count": 26,
   "metadata": {},
   "outputs": [
    {
     "name": "stdout",
     "output_type": "stream",
     "text": [
      "True\n",
      "True\n",
      "False\n",
      "False\n",
      "True\n"
     ]
    }
   ],
   "source": [
    "# THE OR OPERATOR:-\n",
    "\n",
    "print(1==1 or 2==2)\n",
    "print(100==1 or 2==2)\n",
    "print(100==1 or 290==2)\n",
    "\n",
    "#  THE NOT OPERATOR HERE:-\n",
    "\n",
    "print(not 1==1)\n",
    "print(not 400 >  5000)"
   ]
  },
  {
   "cell_type": "code",
   "execution_count": 27,
   "metadata": {},
   "outputs": [
    {
     "name": "stdout",
     "output_type": "stream",
     "text": [
      "It is True!..\n"
     ]
    }
   ],
   "source": [
    "#  IF , ELIF , AND ELSE STATEMENT :-\n",
    "if True:\n",
    "    print(\"It is True!..\")"
   ]
  },
  {
   "cell_type": "code",
   "execution_count": 30,
   "metadata": {},
   "outputs": [
    {
     "name": "stdout",
     "output_type": "stream",
     "text": [
      "Master You are an Idiot!!\n"
     ]
    }
   ],
   "source": [
    "# we can even make variable or comparision operators in this place:---\n",
    "\n",
    "hun = 3>2\n",
    "hun =3<2\n",
    "if hun:\n",
    "    print(\"Feed Me Please Master!\")\n",
    "else:\n",
    "    print(\"Master You are an Idiot!!\")"
   ]
  },
  {
   "cell_type": "code",
   "execution_count": 38,
   "metadata": {},
   "outputs": [
    {
     "name": "stdout",
     "output_type": "stream",
     "text": [
      "Sorry i love some other person !!\n"
     ]
    }
   ],
   "source": [
    "love = input(\"please enter you name and i will tell you a secret!\")\n",
    "\n",
    "if love == 'VijayPranav':\n",
    "    print(\"I Love you very numch vijaypranav!!\")\n",
    "\n",
    "elif love == \"Ajay\":\n",
    "    print(\"I Love you very much Ajay\")\n",
    "\n",
    "elif love == \"sujay\":\n",
    "    print(\"I have a big crush on sujay\")\n",
    "else:\n",
    "     print(\"Sorry i love some other person !!\")"
   ]
  },
  {
   "cell_type": "code",
   "execution_count": 40,
   "metadata": {},
   "outputs": [
    {
     "name": "stdout",
     "output_type": "stream",
     "text": [
      "Sorry i am deeply in love with your brother!!\n"
     ]
    }
   ],
   "source": [
    "name = input(\"please enter you name user:-\")\n",
    "\n",
    "if name == \"Amirtheesh\":\n",
    "    print(\"Sorry i am deeply in love with your brother!!\")\n",
    "elif name == \"Vijaypranav\":\n",
    "    print(\"I love you very much please marry me!!\")\n",
    "\n",
    "else:\n",
    "    print(\"I have a crush on some boy sorry!!\")"
   ]
  },
  {
   "cell_type": "code",
   "execution_count": 42,
   "metadata": {},
   "outputs": [],
   "source": [
    "#             FOR LOOPS IN THE PYTHON DATASTRUCTURE :-"
   ]
  },
  {
   "cell_type": "code",
   "execution_count": 45,
   "metadata": {},
   "outputs": [
    {
     "name": "stdout",
     "output_type": "stream",
     "text": [
      "1\n",
      "2\n",
      "3\n",
      "4\n",
      "5\n"
     ]
    }
   ],
   "source": [
    "My_Iterable = list((1,2,3,4,5))\n",
    "\n",
    "for item in My_Iterable:\n",
    "    print(item)\n"
   ]
  },
  {
   "cell_type": "code",
   "execution_count": 48,
   "metadata": {},
   "outputs": [
    {
     "name": "stdout",
     "output_type": "stream",
     "text": [
      "1\n",
      "super number\n",
      "2\n",
      "super number\n",
      "3\n",
      "super number\n",
      "4\n",
      "super number\n",
      "5\n",
      "super number\n",
      "6\n",
      "super number\n",
      "7\n",
      "super number\n",
      "8\n",
      "super number\n",
      "9\n",
      "super number\n",
      "10\n",
      "super number\n"
     ]
    }
   ],
   "source": [
    "non_list =[1,2,3,4,5,6,7,8,9,10]\n",
    "\n",
    "for item in non_list:\n",
    "    print(item)\n",
    "    print(\"super number\")"
   ]
  },
  {
   "cell_type": "code",
   "execution_count": 51,
   "metadata": {},
   "outputs": [
    {
     "name": "stdout",
     "output_type": "stream",
     "text": [
      "Odd Number:1\n",
      "Even Number:2\n",
      "Odd Number:3\n",
      "Even Number:4\n",
      "Odd Number:5\n",
      "Even Number:6\n",
      "Odd Number:7\n",
      "Even Number:8\n",
      "Odd Number:9\n",
      "Even Number:10\n"
     ]
    }
   ],
   "source": [
    "for num in non_list:\n",
    "    #checking for even and odd number in the list\n",
    "    if num %2==0:\n",
    "        print(f\"Even Number:{num}\")\n",
    "    else:\n",
    "        print(f\"Odd Number:{num}\")"
   ]
  },
  {
   "cell_type": "code",
   "execution_count": 57,
   "metadata": {},
   "outputs": [
    {
     "name": "stdout",
     "output_type": "stream",
     "text": [
      "the sum of the elements are:- 1.0\n",
      "the sum of the elements are:- 3.0\n",
      "the sum of the elements are:- 6.0\n",
      "the sum of the elements are:- 10.559999999999999\n",
      "the sum of the elements are:- 16.229999999999997\n",
      "the sum of the elements are:- 22.569999999999997\n",
      "the sum of the elements are:- 30.358999999999995\n",
      "the sum of the elements are:- 38.589\n",
      "the sum of the elements are:- 47.9324\n",
      "the sum of the elements are:- 58.376000000000005\n"
     ]
    }
   ],
   "source": [
    "list_sum =0\n",
    "mylist =[1.0,2.0,3.0,4.56,5.67,6.34,7.789,8.23,9.3434,10.4436]\n",
    "for num in mylist:\n",
    "    list_sum= list_sum+num\n",
    "    print(\"the sum of the elements are:-\",list_sum)"
   ]
  },
  {
   "cell_type": "code",
   "execution_count": 58,
   "metadata": {},
   "outputs": [
    {
     "name": "stdout",
     "output_type": "stream",
     "text": [
      "the sum of the elements are:- 1\n",
      "the sum of the elements are:- 3\n",
      "the sum of the elements are:- 6\n",
      "the sum of the elements are:- 10\n",
      "the sum of the elements are:- 15\n",
      "the sum of the elements are:- 21\n",
      "the sum of the elements are:- 28\n",
      "the sum of the elements are:- 36\n",
      "the sum of the elements are:- 45\n",
      "the sum of the elements are:- 55\n"
     ]
    }
   ],
   "source": [
    "list_sum =0\n",
    "for num in non_list:\n",
    "    list_sum= list_sum+num\n",
    "    print(\"the sum of the elements are:-\",list_sum)"
   ]
  },
  {
   "cell_type": "code",
   "execution_count": 60,
   "metadata": {},
   "outputs": [
    {
     "name": "stdout",
     "output_type": "stream",
     "text": [
      "V\n",
      "i\n",
      "j\n",
      "a\n",
      "y\n",
      " \n",
      "P\n",
      "r\n",
      "a\n",
      "n\n",
      "a\n",
      "v\n"
     ]
    }
   ],
   "source": [
    "mystring = 'Vijay Pranav'\n",
    "for letter in mystring:\n",
    " print(letter)"
   ]
  },
  {
   "cell_type": "code",
   "execution_count": 63,
   "metadata": {},
   "outputs": [
    {
     "name": "stdout",
     "output_type": "stream",
     "text": [
      "OSI\n",
      "OSI\n",
      "OSI\n",
      "OSI\n",
      "OSI\n",
      "OSI\n",
      "OSI\n",
      "OSI\n",
      "OSI\n",
      "OSI\n",
      "OSI\n"
     ]
    }
   ],
   "source": [
    "# we can even assign the _ instead of assigning the variable name here:-\n",
    "v = \"VijayPranav\"\n",
    "for _ in v:\n",
    "    print(\"OSI\")"
   ]
  },
  {
   "cell_type": "code",
   "execution_count": 64,
   "metadata": {},
   "outputs": [
    {
     "name": "stdout",
     "output_type": "stream",
     "text": [
      "1\n",
      "2\n",
      "3\n",
      "4\n",
      "5\n",
      "6\n",
      "7\n",
      "8\n",
      "9\n",
      "10\n"
     ]
    }
   ],
   "source": [
    "# they are even possible in the tuples here:-\n",
    "tup = (1,2,3,4,5,6,7,8,9,10)\n",
    "for item in tup:\n",
    "    print(item)"
   ]
  },
  {
   "cell_type": "code",
   "execution_count": 66,
   "metadata": {},
   "outputs": [
    {
     "name": "stdout",
     "output_type": "stream",
     "text": [
      "5\n",
      "(1, 2)\n",
      "(3, 4)\n",
      "(5, 6)\n",
      "(7, 8)\n",
      "(9, 10)\n"
     ]
    }
   ],
   "source": [
    "# tuple packing and unpacking in python:-\n",
    "mylist = [(1,2),(3,4),(5,6),(7,8),(9,10)]\n",
    "print(len(mylist))\n",
    "for i in mylist:\n",
    "    print(i)"
   ]
  },
  {
   "cell_type": "code",
   "execution_count": 68,
   "metadata": {},
   "outputs": [
    {
     "name": "stdout",
     "output_type": "stream",
     "text": [
      "5\n",
      "1\n",
      "2\n",
      "3\n",
      "4\n",
      "5\n",
      "6\n",
      "7\n",
      "8\n",
      "9\n",
      "10\n"
     ]
    }
   ],
   "source": [
    "mylist = [(1,2),(3,4),(5,6),(7,8),(9,10)]\n",
    "print(len(mylist))\n",
    "for a,b in mylist:\n",
    "    print(a)\n",
    "    print(b)"
   ]
  },
  {
   "cell_type": "code",
   "execution_count": 2,
   "metadata": {},
   "outputs": [],
   "source": [
    "''' WHILE LOOPS IN THE PYTHON COURSES AVALIABLE HERE:-'''\n"
   ]
  },
  {
   "cell_type": "code",
   "execution_count": 9,
   "metadata": {},
   "outputs": [
    {
     "name": "stdout",
     "output_type": "stream",
     "text": [
      " the current value of the x is 0\n",
      " the current value of the x is 1\n",
      " the current value of the x is 2\n",
      " the current value of the x is 3\n",
      " the current value of the x is 4\n",
      "Madam sorry to say this but the x is not less than \n",
      "  five madam you have to do things on your own madam\n"
     ]
    }
   ],
   "source": [
    "x =0 \n",
    "\n",
    "while x<5:\n",
    "    print(f' the current value of the x is {x}')\n",
    "    x = x+1\n",
    "    # there is also a sleaker way of writing the same code here that is x+=1 both are representing the same thing\n",
    "else:\n",
    "    print(\"Madam sorry to say this but the x is not less than \\n  five madam you have to do things on your own madam\")\n",
    "\n"
   ]
  },
  {
   "cell_type": "code",
   "execution_count": 5,
   "metadata": {},
   "outputs": [],
   "source": [
    "# if the condition intially itself is never true at all then the contents of the while loop block will never be executing at all"
   ]
  },
  {
   "cell_type": "code",
   "execution_count": 8,
   "metadata": {},
   "outputs": [
    {
     "name": "stdout",
     "output_type": "stream",
     "text": [
      "Madam sorry to say this but the x is not less than\n",
      " five madam you have to do things on your own madam\n"
     ]
    }
   ],
   "source": [
    "x =50 \n",
    "\n",
    "while x<5:\n",
    "    print(f' the current value of the x is {x}')\n",
    "    x = x+1\n",
    "    # there is also a sleaker way of writing the same code here that is x+=1 both are representing the same thing\n",
    "else:\n",
    "    print(\"Madam sorry to say this but the x is not less than \\n  five madam you have to do things on your own madam\")"
   ]
  },
  {
   "cell_type": "code",
   "execution_count": 10,
   "metadata": {},
   "outputs": [],
   "source": [
    "\n",
    "#  BREAK, CONTINUE, PASS\n",
    "\n",
    "# We can use break, continue, and pass statements in our loops to add additional functionality for various cases. The three statements are defined by:\n",
    "\n",
    "#break: Breaks out of the current closest enclosing loop.\n",
    "#continue: Goes to the top of the closest enclosing loop.\n",
    "#pass: Does nothing at all."
   ]
  },
  {
   "cell_type": "code",
   "execution_count": 12,
   "metadata": {},
   "outputs": [
    {
     "name": "stdout",
     "output_type": "stream",
     "text": [
      "end of the script is here da looser!...\n"
     ]
    }
   ],
   "source": [
    "x = [1,2,3,4,5,6,7,8,9,10]\n",
    "\n",
    "for item in x:\n",
    "    pass # the pass key word says do nothing and just skip through the loop entirely normally\n",
    "\n",
    "print(\"end of the script is here da looser!...\")"
   ]
  },
  {
   "cell_type": "code",
   "execution_count": 13,
   "metadata": {},
   "outputs": [
    {
     "name": "stdout",
     "output_type": "stream",
     "text": [
      "R\n",
      "_\n",
      "U\n",
      "_\n",
      "V\n",
      "i\n",
      "j\n",
      "y\n",
      "P\n",
      "r\n",
      "n\n",
      "v\n"
     ]
    }
   ],
   "source": [
    "# THE CONTINUE STATEMENTS ARE HERE:-\n",
    "# goes to the next iteration of the current enclosing closing loop...\n",
    "my_string = \"R_U_VijayPranav\"\n",
    "\n",
    "for letter in my_string:\n",
    "    if letter == 'a':\n",
    "        continue\n",
    "    print(letter)"
   ]
  },
  {
   "cell_type": "code",
   "execution_count": 15,
   "metadata": {},
   "outputs": [
    {
     "name": "stdout",
     "output_type": "stream",
     "text": [
      "R\n",
      "_\n",
      "U\n",
      "_\n",
      "V\n",
      "i\n",
      "j\n"
     ]
    }
   ],
   "source": [
    "# THE BREAK STATEMENTS:-\n",
    "# The break statement breaks out of the current enclosing closing loop avaliable\n",
    "\n",
    "my_string = \"R_U_VijayPranav\"\n",
    "\n",
    "for letter in my_string:\n",
    "    if letter == 'a':\n",
    "        break\n",
    "    print(letter)"
   ]
  },
  {
   "cell_type": "code",
   "execution_count": 17,
   "metadata": {},
   "outputs": [
    {
     "name": "stdout",
     "output_type": "stream",
     "text": [
      "0\n",
      "1\n"
     ]
    }
   ],
   "source": [
    "x = 0\n",
    "\n",
    "while x<5 :\n",
    "    if x == 2:\n",
    "        break  # if x is 2 at any moment then we are breaking out of the current iterating loop that we are present in...\n",
    "    print(x)\n",
    "    x += 1"
   ]
  },
  {
   "cell_type": "code",
   "execution_count": 19,
   "metadata": {},
   "outputs": [
    {
     "name": "stdout",
     "output_type": "stream",
     "text": [
      "1\n",
      "2\n",
      "3\n",
      "4\n",
      "5\n",
      "6\n",
      "7\n",
      "8\n",
      "9\n",
      "10\n"
     ]
    }
   ],
   "source": [
    "mylist = [1,2,3,4,5,6,7,8,9,10]\n",
    "\n",
    "for num in range(1,11):\n",
    "    print(num)"
   ]
  },
  {
   "cell_type": "code",
   "execution_count": 21,
   "metadata": {},
   "outputs": [
    {
     "name": "stdout",
     "output_type": "stream",
     "text": [
      "0\n",
      "2\n",
      "4\n",
      "6\n",
      "8\n",
      "10\n"
     ]
    }
   ],
   "source": [
    "for num in range(0,11,2):\n",
    "    print(num) # this is taking the argument from the starting step to the ending step in the jumps of 2  which is the mentioned step size here..."
   ]
  },
  {
   "cell_type": "code",
   "execution_count": 24,
   "metadata": {},
   "outputs": [
    {
     "name": "stdout",
     "output_type": "stream",
     "text": [
      "[0, 2, 4, 6, 8, 10]\n",
      "At the index 0 the letter is a\n",
      "At the index 1 the letter is b\n",
      "At the index 2 the letter is c\n",
      "At the index 3 the letter is d\n",
      "At the index 4 the letter is e\n",
      "At the index 5 the letter is f\n",
      "At the index 6 the letter is g\n",
      "At the index 7 the letter is h\n"
     ]
    }
   ],
   "source": [
    "# this range operator is a generator to make it again into the list we can cast them into list again here:-\n",
    "print(list(range(0,11,2)))\n",
    "\n",
    "index_count =0\n",
    "\n",
    "for letter in 'abcdefgh':\n",
    "    print('At the index {} the letter is {}'.format(index_count,letter))\n",
    "    index_count += 1"
   ]
  },
  {
   "cell_type": "code",
   "execution_count": 25,
   "metadata": {},
   "outputs": [
    {
     "name": "stdout",
     "output_type": "stream",
     "text": [
      "a\n",
      "b\n",
      "c\n",
      "d\n",
      "e\n",
      "f\n",
      "g\n",
      "h\n",
      "i\n",
      "j\n",
      "k\n"
     ]
    }
   ],
   "source": [
    "index_count =0\n",
    "word = 'abcdefghijk'\n",
    "\n",
    "for letter in word:\n",
    "    print(word[index_count])\n",
    "    index_count += 1"
   ]
  },
  {
   "cell_type": "code",
   "execution_count": 26,
   "metadata": {},
   "outputs": [
    {
     "name": "stdout",
     "output_type": "stream",
     "text": [
      "(0, 'R')\n",
      "(1, '.')\n",
      "(2, 'U')\n",
      "(3, '.')\n",
      "(4, 'V')\n",
      "(5, 'i')\n",
      "(6, 'j')\n",
      "(7, 'a')\n",
      "(8, 'y')\n",
      "(9, 'P')\n",
      "(10, 'r')\n",
      "(11, 'a')\n",
      "(12, 'n')\n",
      "(13, 'a')\n",
      "(14, 'v')\n"
     ]
    }
   ],
   "source": [
    "word = \"R.U.VijayPranav\"\n",
    "for item in enumerate(word):\n",
    "    print(item)   # this is basically doing the index count enumetation for us automatically here:--"
   ]
  },
  {
   "cell_type": "code",
   "execution_count": 2,
   "metadata": {},
   "outputs": [
    {
     "name": "stdout",
     "output_type": "stream",
     "text": [
      "0\n",
      "R\n",
      "\n",
      "\n",
      "1\n",
      ".\n",
      "\n",
      "\n",
      "2\n",
      "U\n",
      "\n",
      "\n",
      "3\n",
      ".\n",
      "\n",
      "\n",
      "4\n",
      "V\n",
      "\n",
      "\n",
      "5\n",
      "i\n",
      "\n",
      "\n",
      "6\n",
      "j\n",
      "\n",
      "\n",
      "7\n",
      "a\n",
      "\n",
      "\n",
      "8\n",
      "y\n",
      "\n",
      "\n",
      "9\n",
      "P\n",
      "\n",
      "\n",
      "10\n",
      "r\n",
      "\n",
      "\n",
      "11\n",
      "a\n",
      "\n",
      "\n",
      "12\n",
      "n\n",
      "\n",
      "\n",
      "13\n",
      "a\n",
      "\n",
      "\n",
      "14\n",
      "v\n",
      "\n",
      "\n"
     ]
    }
   ],
   "source": [
    "word = \"R.U.VijayPranav\"\n",
    "for index, letter in enumerate(word):\n",
    "    print(index)\n",
    "    print(letter)   # since enumerate returns them in tuples we are using the tuple unpacking to display them in seperate manner here...\n",
    "    print('\\n')"
   ]
  },
  {
   "cell_type": "code",
   "execution_count": 1,
   "metadata": {},
   "outputs": [
    {
     "name": "stdout",
     "output_type": "stream",
     "text": [
      "(1, 'a', 100)\n",
      "(2, 'b', 200)\n",
      "(3, 'c', 300)\n",
      "(4, 'd', 400)\n",
      "(5, 'e', 500)\n",
      "[(1, 'a', 100), (2, 'b', 200), (3, 'c', 300), (4, 'd', 400), (5, 'e', 500)]\n"
     ]
    }
   ],
   "source": [
    "# the same things can be resulted in tuple packed value using the  zip function in the list or itertable objects\n",
    "\n",
    "l1 = [1,2,3,4,5]\n",
    "l2 = ['a','b','c','d','e']\n",
    "l3 = [100,200,300,400,500]\n",
    "\n",
    "for item in zip(l1,l2,l3):\n",
    "   print(item)\n",
    "\n",
    "# if we want these together as a list itself we can do that also here\n",
    "\n",
    "print(list(zip(l1,l2,l3)))"
   ]
  },
  {
   "cell_type": "code",
   "execution_count": null,
   "metadata": {},
   "outputs": [],
   "source": []
  },
  {
   "cell_type": "code",
   "execution_count": null,
   "metadata": {},
   "outputs": [],
   "source": []
  },
  {
   "cell_type": "code",
   "execution_count": null,
   "metadata": {},
   "outputs": [],
   "source": []
  },
  {
   "cell_type": "code",
   "execution_count": null,
   "metadata": {},
   "outputs": [],
   "source": [
    "\n"
   ]
  }
 ],
 "metadata": {
  "kernelspec": {
   "display_name": "Python 3",
   "language": "python",
   "name": "python3"
  },
  "language_info": {
   "codemirror_mode": {
    "name": "ipython",
    "version": 3
   },
   "file_extension": ".py",
   "mimetype": "text/x-python",
   "name": "python",
   "nbconvert_exporter": "python",
   "pygments_lexer": "ipython3",
   "version": "3.11.5"
  }
 },
 "nbformat": 4,
 "nbformat_minor": 2
}
