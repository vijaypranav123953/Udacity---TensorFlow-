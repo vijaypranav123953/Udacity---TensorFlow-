{
 "cells": [
  {
   "cell_type": "code",
   "execution_count": 1,
   "metadata": {},
   "outputs": [
    {
     "data": {
      "text/plain": [
       "' The two formating method are\\n.format()\\nf-strings'"
      ]
     },
     "execution_count": 1,
     "metadata": {},
     "output_type": "execute_result"
    }
   ],
   "source": [
    "'''         STRING FORMATING METHODS HERE      '''\n",
    "''' The two formating method are\n",
    ".format()\n",
    "f-strings'''\n"
   ]
  },
  {
   "cell_type": "code",
   "execution_count": 4,
   "metadata": {},
   "outputs": [
    {
     "name": "stdout",
     "output_type": "stream",
     "text": [
      "hello my name is vijaypranav\n",
      "Om narayana is the greatest god\n"
     ]
    }
   ],
   "source": [
    "print(\"hello my name is {}\".format(\"vijaypranav\"))\n",
    "print(\"Om {} {} {}\".format(\"narayana\",\"is\",\"the greatest god\"))"
   ]
  },
  {
   "cell_type": "code",
   "execution_count": 7,
   "metadata": {},
   "outputs": [
    {
     "name": "stdout",
     "output_type": "stream",
     "text": [
      "the quick brown fox\n",
      "the fox fox fox\n"
     ]
    }
   ],
   "source": [
    "# these elements inserted into the formated strings can also be odered using the index position of the respected iterable sequece eg-:\n",
    "print('the {2} {1} {0}'.format('fox','brown','quick'))\n",
    "''' we can even make these inserted sequence repeated here:-'''\n",
    "print('the {0} {0} {0}'.format('fox','brown','quick'))"
   ]
  },
  {
   "cell_type": "code",
   "execution_count": 9,
   "metadata": {},
   "outputs": [
    {
     "name": "stdout",
     "output_type": "stream",
     "text": [
      "the quick brown fox\n",
      "the fox fox fox\n"
     ]
    }
   ],
   "source": [
    "''' we can even assign the individual keywords in the assigners and assign them based of the sequences here:-'''\n",
    "print('the {q} {b} {f}'.format(f ='fox',b ='brown',q ='quick'))\n",
    "print('the {f} {f} {f}'.format(f ='fox',b ='brown',q ='quick'))"
   ]
  },
  {
   "cell_type": "code",
   "execution_count": 14,
   "metadata": {},
   "outputs": [
    {
     "name": "stdout",
     "output_type": "stream",
     "text": [
      "the result is 0.1287001287001287\n",
      "the result is 0.1287001287001287\n",
      "the result is 0.129\n",
      "the result is 0.128700\n",
      "the result is    0.128700\n"
     ]
    }
   ],
   "source": [
    "''' FLOAT FORMATTING FOLLOWS WITH VALUES:WIDTH,PRECISION OF F HERE:-'''\n",
    "result = 100/777\n",
    "print(\"the result is {}\".format(result))\n",
    "print(\"the result is {r}\".format(r=result))\n",
    "\n",
    "#now we are going to play around with these precision value like \n",
    "print(\"the result is {r:1.3f}\".format(r=result))\n",
    "print(\"the result is {r:1.6f}\".format(r=result))\n",
    "# if we increase the width value then we will be getting a whole lot of whitespaces here\n",
    "print(\"the result is {r:11.6f}\".format(r=result))"
   ]
  },
  {
   "cell_type": "code",
   "execution_count": 17,
   "metadata": {},
   "outputs": [
    {
     "name": "stdout",
     "output_type": "stream",
     "text": [
      "the result is 104.12\n"
     ]
    }
   ],
   "source": [
    "result = 104.12345\n",
    "print(\"the result is {r:1.2f}\".format(r=result))"
   ]
  },
  {
   "cell_type": "code",
   "execution_count": 11,
   "metadata": {},
   "outputs": [
    {
     "name": "stdout",
     "output_type": "stream",
     "text": [
      "Hello my name is  vijay\n"
     ]
    }
   ],
   "source": [
    "# F - strings or also called as the formated string literals here  or also called as string literal method:-\n",
    "\n",
    "name = \"vijay\"\n",
    " \n",
    "''' here we are using a f string to directly insert the sub string instead of using the .format and key or identifer method '''\n",
    "print(f\"Hello my name is  {name}\")"
   ]
  },
  {
   "cell_type": "code",
   "execution_count": 13,
   "metadata": {},
   "outputs": [
    {
     "name": "stdout",
     "output_type": "stream",
     "text": [
      "amirtheesh is 16 old\n"
     ]
    }
   ],
   "source": [
    "name = \"amirtheesh\"\n",
    "age = 16\n",
    "print(f\"{name} is {age} old\")"
   ]
  },
  {
   "cell_type": "code",
   "execution_count": 15,
   "metadata": {},
   "outputs": [
    {
     "name": "stdout",
     "output_type": "stream",
     "text": [
      "i likepyhton rules!\n"
     ]
    }
   ],
   "source": [
    "print('i like{x}'.format(x='pyhton rules!'))"
   ]
  },
  {
   "cell_type": "code",
   "execution_count": 17,
   "metadata": {},
   "outputs": [],
   "source": [
    "\"\"\"         LIST DATATYPES IN PYTHON        \"\"\"\n"
   ]
  },
  {
   "cell_type": "code",
   "execution_count": 20,
   "metadata": {},
   "outputs": [
    {
     "name": "stdout",
     "output_type": "stream",
     "text": [
      "3\n"
     ]
    }
   ],
   "source": [
    "my_list = [1,2,3]\n",
    "my_list = ['string',100,23.2]\n",
    "print(len(my_list)) # it is ordered sequence of elemets so we can use the indexing and slicing here"
   ]
  },
  {
   "cell_type": "code",
   "execution_count": 24,
   "metadata": {},
   "outputs": [
    {
     "name": "stdout",
     "output_type": "stream",
     "text": [
      "one\n",
      "['two', 'three']\n",
      "['one', 'two', 'three', 'four', 'five']\n"
     ]
    }
   ],
   "source": [
    "my_list=['one','two','three']\n",
    "print(my_list[0])\n",
    "print(my_list[1:])\n",
    "#we can also concatenate the list together\n",
    "my_list2 = ['four','five']\n",
    "my_list = my_list+my_list2\n",
    "print(my_list)"
   ]
  },
  {
   "cell_type": "code",
   "execution_count": 29,
   "metadata": {},
   "outputs": [
    {
     "name": "stdout",
     "output_type": "stream",
     "text": [
      "['one', 'two', 'three', 'four', 'five', 'six', 'six', 'six']\n",
      "['infinity', 'two', 'three', 'four', 'five', 'six', 'six', 'six']\n"
     ]
    }
   ],
   "source": [
    "# method avaliable in the list datatype\n",
    "my_list.append('six')\n",
    "print(my_list)\n",
    "my_list[0] = 'infinity'\n",
    "print(my_list)"
   ]
  },
  {
   "cell_type": "code",
   "execution_count": 34,
   "metadata": {},
   "outputs": [
    {
     "name": "stdout",
     "output_type": "stream",
     "text": [
      "['infinity', 'two', 'three', 'four', 'five', 'six', 'seven']\n",
      "seven\n"
     ]
    }
   ],
   "source": [
    "my_list[-1] = 'seven'\n",
    "print(my_list)\n",
    "# method to remove the items from a list here\n",
    "print(my_list.pop())"
   ]
  },
  {
   "cell_type": "code",
   "execution_count": 40,
   "metadata": {},
   "outputs": [
    {
     "name": "stdout",
     "output_type": "stream",
     "text": [
      "two\n",
      "['three']\n"
     ]
    }
   ],
   "source": [
    "popped_item = my_list.pop(0)\n",
    "print(popped_item)\n",
    "# we can also provide an indexposition for the pop functin\n",
    "print(my_list)\n"
   ]
  },
  {
   "cell_type": "code",
   "execution_count": 48,
   "metadata": {},
   "outputs": [
    {
     "name": "stdout",
     "output_type": "stream",
     "text": [
      "['a', 'e', 'f', 'i', 'o', 'u']\n",
      "<class 'NoneType'>\n"
     ]
    }
   ],
   "source": [
    "newlist = ['u','o','f','i','e','a']\n",
    "numlist = [9,6,8,2,7,1,10,3,5]\n",
    "newlist.sort() # it sorts the list in place and does not return anything so you cannot assign it to any variable type here\n",
    "print(newlist)\n",
    "v = newlist.sort()\n",
    "print(type(v)) # you can clearly see here that it is returning a none type here:-"
   ]
  },
  {
   "cell_type": "code",
   "execution_count": 5,
   "metadata": {},
   "outputs": [
    {
     "name": "stdout",
     "output_type": "stream",
     "text": [
      "apple\n",
      "banana\n",
      "cherry\n"
     ]
    },
    {
     "ename": "NameError",
     "evalue": "name 'numlist' is not defined",
     "output_type": "error",
     "traceback": [
      "\u001b[1;31m---------------------------------------------------------------------------\u001b[0m",
      "\u001b[1;31mNameError\u001b[0m                                 Traceback (most recent call last)",
      "Cell \u001b[1;32mIn[5], line 7\u001b[0m\n\u001b[0;32m      5\u001b[0m \u001b[38;5;28mprint\u001b[39m(y)\n\u001b[0;32m      6\u001b[0m \u001b[38;5;28mprint\u001b[39m(z)\n\u001b[1;32m----> 7\u001b[0m \u001b[43mnumlist\u001b[49m\u001b[38;5;241m.\u001b[39msort()\n\u001b[0;32m      8\u001b[0m \u001b[38;5;28mprint\u001b[39m(numlist) \u001b[38;5;66;03m#now it is in the sorted order here:-\u001b[39;00m\n\u001b[0;32m      9\u001b[0m numlist\u001b[38;5;241m.\u001b[39mreverse() \u001b[38;5;66;03m# this is also inplace means it does not return anything\u001b[39;00m\n",
      "\u001b[1;31mNameError\u001b[0m: name 'numlist' is not defined"
     ]
    }
   ],
   "source": [
    "#if we have a collection of variables in a list or tuple python allows you to extract it. this is called as a tuple\n",
    "fruits = ['apple','banana','cherry']\n",
    "x,y,z = fruits\n",
    "print(x)\n",
    "print(y)\n",
    "print(z)\n",
    "numlist.sort()\n",
    "print(numlist) #now it is in the sorted order here:-\n",
    "numlist.reverse() # this is also inplace means it does not return anything\n",
    "print(numlist)"
   ]
  },
  {
   "cell_type": "code",
   "execution_count": 6,
   "metadata": {},
   "outputs": [
    {
     "name": "stdout",
     "output_type": "stream",
     "text": [
      "12345.0\n",
      "123\n",
      "(12345+0j)\n",
      "<class 'float'>\n",
      "<class 'int'>\n",
      "<class 'complex'>\n"
     ]
    }
   ],
   "source": [
    "''' there is also typeconversion possible in the python like you can convert from one datatype to another.'''\n",
    "x = 12345\n",
    "y = 123.456\n",
    "z = 123j\n",
    "\n",
    "#convert from int to float:\n",
    "x = float(x)\n",
    "\n",
    "#convert from float to int:\n",
    "y = int(y)\n",
    "\n",
    "#convert from int to complex:\n",
    "z = complex(x)\n",
    "\n",
    "print(x)\n",
    "print(y)\n",
    "print(z)\n",
    "\n",
    "print(type(x))\n",
    "print(type(y))\n",
    "print(type(z))\n",
    "\n",
    "\n"
   ]
  },
  {
   "cell_type": "code",
   "execution_count": 7,
   "metadata": {},
   "outputs": [
    {
     "name": "stdout",
     "output_type": "stream",
     "text": [
      "34\n",
      "123.456\n",
      "['appple', 'banana', 'orange']\n"
     ]
    }
   ],
   "source": [
    "# using the typecasting we can also convert from the string to intger and floating point and vice versa is also posssible here:-\n",
    "a = int(\"34\")\n",
    "b = float(\"123.456\")\n",
    "print(a)\n",
    "print(b)\n",
    "# list constructor using the list() function :-\n",
    "v = list(('appple','banana','orange'))\n",
    "print(v)"
   ]
  },
  {
   "cell_type": "code",
   "execution_count": 8,
   "metadata": {},
   "outputs": [
    {
     "name": "stdout",
     "output_type": "stream",
     "text": [
      "['orange', 'cherry', 'dragonfuit', 'kiwi']\n"
     ]
    }
   ],
   "source": [
    "'''                          USING THE IN AND NOT IN OPERATORS IN THE LIST DATATYPES                '''\n",
    "# the insert method is used to insert an itme in the specifed index in the list datatype here:-\n",
    "fruit_list = ['orange','cherry','kiwi']\n",
    "fruit_list.insert(2,'dragonfuit') #The insert() method inserts an item at the specified index:\n",
    "print(fruit_list)"
   ]
  },
  {
   "cell_type": "code",
   "execution_count": 9,
   "metadata": {},
   "outputs": [
    {
     "name": "stdout",
     "output_type": "stream",
     "text": [
      "['i', '143', 'you', 'i', 4, 'you']\n",
      "<class 'NoneType'>\n",
      "['apple', 'banana', 'cherry', 'orange', 'kiwi', 'blackcurrant', 'watermelon', 'mango', 'pineapple', 'papaya']\n"
     ]
    }
   ],
   "source": [
    "''' THE EXTEND METHOD IS USED TO APPEND ITEMS FROM ONE ITERATABLE SEQUECE INTO ANOTHER LIST HERE:-'''\n",
    "# THE EXTEND METHOD IS ALSO USED FOR ADDING MULTIPLE ELEMNTS INTO THE GIVEN LIST:-\n",
    "l1 = ['i','143','you']\n",
    "l2 = ['i',4,'you']\n",
    "l1.extend(l2) # the extend also will not return any value\n",
    "print(l1)\n",
    "l3 = l1.extend(l2)\n",
    "print(type(l3))\n",
    "#The extend() method does not have to append lists, you can add any iterable objec\n",
    "this_list=[\"apple\", \"banana\", \"cherry\", \"orange\", \"kiwi\", \"blackcurrant\", \"watermelon\"]\n",
    "tropical = (\"mango\", \"pineapple\", \"papaya\")\n",
    "this_list.extend(tropical)\n",
    "print(this_list)"
   ]
  },
  {
   "cell_type": "code",
   "execution_count": 4,
   "metadata": {},
   "outputs": [
    {
     "name": "stdout",
     "output_type": "stream",
     "text": [
      "['apple', 'banana', 'cherry', 'orange', 'kiwi', 'blackcurrant', 'watermelon', 'mango', 'pineapple', 'papaya']\n",
      "['banana', 'cherry', 'orange', 'kiwi', 'blackcurrant', 'watermelon', 'mango', 'pineapple', 'papaya']\n"
     ]
    }
   ],
   "source": [
    "#The remove() method removes the first occurence of the specified item from the list here:-.\n",
    "# syntax here is List.remove(<value>)\n",
    "\n",
    "print(this_list)\n",
    "this_list.remove((\"apple\"))\n",
    "print(this_list)\n",
    "\n",
    "\n",
    "\n"
   ]
  },
  {
   "cell_type": "code",
   "execution_count": 10,
   "metadata": {},
   "outputs": [
    {
     "name": "stdout",
     "output_type": "stream",
     "text": [
      "['e', 'i', 'o', 'u', 'a', 'p', 'q', 'q']\n",
      "['e', 'i', 'o', 'u', 'a', 'p', 'q']\n"
     ]
    }
   ],
   "source": [
    "t1 = ['a','e','i','o','u','a','p','q','q']\n",
    "t1.remove('a')\n",
    "print(t1)\n",
    "t1.remove('q')\n",
    "print(t1)"
   ]
  },
  {
   "cell_type": "code",
   "execution_count": 12,
   "metadata": {},
   "outputs": [
    {
     "name": "stdout",
     "output_type": "stream",
     "text": [
      "0\n",
      "0\n",
      "<class 'list'>\n",
      "[]\n"
     ]
    }
   ],
   "source": [
    "#returns the count of the item that you passed as an argument\n",
    "print(t1.count('e'))\n",
    "print(t1.count('a'))\n",
    "# this method clear or removes all the elements in the given list here\n",
    "t1.clear()\n",
    "print(type(t1))\n",
    "print(t1)"
   ]
  },
  {
   "cell_type": "code",
   "execution_count": null,
   "metadata": {},
   "outputs": [],
   "source": []
  }
 ],
 "metadata": {
  "kernelspec": {
   "display_name": "Python 3",
   "language": "python",
   "name": "python3"
  },
  "language_info": {
   "codemirror_mode": {
    "name": "ipython",
    "version": 3
   },
   "file_extension": ".py",
   "mimetype": "text/x-python",
   "name": "python",
   "nbconvert_exporter": "python",
   "pygments_lexer": "ipython3",
   "version": "3.11.5"
  }
 },
 "nbformat": 4,
 "nbformat_minor": 2
}
