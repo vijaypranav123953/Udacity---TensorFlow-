{
 "cells": [
  {
   "cell_type": "code",
   "execution_count": 2,
   "metadata": {},
   "outputs": [
    {
     "name": "stdout",
     "output_type": "stream",
     "text": [
      "cdefghijk\n",
      "abcd\n",
      "def\n",
      "ceg\n"
     ]
    }
   ],
   "source": [
    "'''  STRING SLICING HERE:-'''\n",
    "\n",
    "string = \"abcdefghijk\"\n",
    "print(string[2:]) #from 2 to all the way to the end here\n",
    "print(string[:4]) #upto but the stop index is not at all included here\n",
    "print(string[3:6]) \n",
    "print(string[2:7:2]) "
   ]
  },
  {
   "cell_type": "code",
   "execution_count": 3,
   "metadata": {},
   "outputs": [
    {
     "name": "stdout",
     "output_type": "stream",
     "text": [
      "abcdefghijk\n",
      "acegik\n",
      "kjihgfedcba\n"
     ]
    }
   ],
   "source": [
    "''' Doing things with the colen here'''\n",
    "print(string[::]) # from starting to the end print everything with the index size of 1\n",
    "print(string[::2]) #go in the jumps of two\n",
    "\n",
    "''' standard syntax to reverse the string where we are going in reverse direction with step size of 1'''\n",
    "print(string[::-1])"
   ]
  },
  {
   "cell_type": "code",
   "execution_count": 4,
   "metadata": {},
   "outputs": [
    {
     "name": "stdout",
     "output_type": "stream",
     "text": [
      "Aijay\n"
     ]
    },
    {
     "data": {
      "text/plain": [
       "\"Nitya you have a very sexy figure i can't control anymore\""
      ]
     },
     "execution_count": 4,
     "metadata": {},
     "output_type": "execute_result"
    }
   ],
   "source": [
    "# STRING PROPERTES AND METHOD MENTIONED HERE:-\n",
    "''' strings are immutatiable '''\n",
    "str = \"vijay\"\n",
    "# str[0] = \"A\"  this will give an error stating item assignment not supported so \n",
    "last = str[1:]\n",
    "first = \"A\"\n",
    "new = first+last\n",
    "print(new)\n",
    "x = \"Nitya\"\n",
    "x+ \" you have a very sexy figure i can't control anymore\""
   ]
  },
  {
   "cell_type": "code",
   "execution_count": 5,
   "metadata": {},
   "outputs": [],
   "source": [
    "x = \"sexy lady\""
   ]
  },
  {
   "cell_type": "code",
   "execution_count": 6,
   "metadata": {},
   "outputs": [],
   "source": [
    "x = x+ \"what is you rate tell me\" # if we keep on doing this  then we are concatnation the string again and again here continously "
   ]
  },
  {
   "cell_type": "code",
   "execution_count": 7,
   "metadata": {},
   "outputs": [
    {
     "name": "stdout",
     "output_type": "stream",
     "text": [
      "sexy ladywhat is you rate tell me\n"
     ]
    }
   ],
   "source": [
    "print(x)\n",
    "x=\"hi\""
   ]
  },
  {
   "cell_type": "code",
   "execution_count": 8,
   "metadata": {},
   "outputs": [
    {
     "name": "stdout",
     "output_type": "stream",
     "text": [
      "hihihihihihihihihihi\n"
     ]
    },
    {
     "data": {
      "text/plain": [
       "'23'"
      ]
     },
     "execution_count": 8,
     "metadata": {},
     "output_type": "execute_result"
    }
   ],
   "source": [
    "print(x*10)\n",
    "'2'+'3' # concatination is happeing not addition here"
   ]
  },
  {
   "cell_type": "code",
   "execution_count": 16,
   "metadata": {},
   "outputs": [
    {
     "name": "stdout",
     "output_type": "stream",
     "text": [
      "False\n",
      "VIJAYPRANAV IS A GOOD BOY\n",
      "vijaypranav is a good boy\n",
      "['vijaypranav', 'is', 'a', 'good', 'boy']\n",
      "['vij', 'ypr', 'n', 'v is ', ' good boy']\n"
     ]
    }
   ],
   "source": [
    "x = \"vijaypranav is a good boy\"\n",
    "v=x.isalpha()\n",
    "v1 = x.upper()\n",
    "v2 = x.lower()\n",
    "print(v)\n",
    "print(v1)\n",
    "print(v2)\n",
    "print(x.split()) # the split method is used to split the string based on the given attribute to it\n",
    "print(x.split('a')) # -- now it is spliting based on a here"
   ]
  },
  {
   "cell_type": "code",
   "execution_count": 21,
   "metadata": {},
   "outputs": [
    {
     "name": "stdout",
     "output_type": "stream",
     "text": [
      "h*e*l*l*o\n",
      "v$i$j$a$y$p$r$a$n$a$v\n",
      "trail%%%hello%%%vijay\n"
     ]
    }
   ],
   "source": [
    "''' joins a string or character after each menber of the string iterator - it is in a string based sequence\n",
    "\n",
    "syntax :---  <string>.join(<string iterable>)\n",
    "'''\n",
    "print('*'.join('hello'))\n",
    "print(\"$\".join(\"vijaypranav\"))\n",
    "print(\"%%%\".join([\"trail\",\"hello\",\"vijay\"])) # can not only be used for the string iterators but also been used for the list and tuples here"
   ]
  },
  {
   "cell_type": "code",
   "execution_count": 25,
   "metadata": {},
   "outputs": [
    {
     "name": "stdout",
     "output_type": "stream",
     "text": [
      "('I am an working ', 'legion', ' in the information industry')\n"
     ]
    }
   ],
   "source": [
    "txt = \"I am an working legion in the information industry\"\n",
    "v = txt.partition('legion')\n",
    "'''\n",
    "before the seperator\n",
    "seperator\n",
    "after the seperator\n",
    "'''\n",
    "print(v)  # it splits the string based on the seperator"
   ]
  },
  {
   "cell_type": "code",
   "execution_count": null,
   "metadata": {},
   "outputs": [],
   "source": []
  },
  {
   "cell_type": "code",
   "execution_count": null,
   "metadata": {},
   "outputs": [],
   "source": []
  },
  {
   "cell_type": "code",
   "execution_count": null,
   "metadata": {},
   "outputs": [],
   "source": []
  },
  {
   "cell_type": "code",
   "execution_count": null,
   "metadata": {},
   "outputs": [],
   "source": []
  },
  {
   "cell_type": "code",
   "execution_count": null,
   "metadata": {},
   "outputs": [],
   "source": []
  },
  {
   "cell_type": "code",
   "execution_count": null,
   "metadata": {},
   "outputs": [],
   "source": []
  }
 ],
 "metadata": {
  "kernelspec": {
   "display_name": "Python 3",
   "language": "python",
   "name": "python3"
  },
  "language_info": {
   "codemirror_mode": {
    "name": "ipython",
    "version": 3
   },
   "file_extension": ".py",
   "mimetype": "text/x-python",
   "name": "python",
   "nbconvert_exporter": "python",
   "pygments_lexer": "ipython3",
   "version": "3.11.5"
  }
 },
 "nbformat": 4,
 "nbformat_minor": 2
}
